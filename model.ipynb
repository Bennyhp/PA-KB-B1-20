{
  "cells": [
    {
      "cell_type": "markdown",
      "metadata": {
        "id": "OjQdSZO_k_CR"
      },
      "source": [
        "# Import Library"
      ]
    },
    {
      "cell_type": "code",
      "execution_count": 4,
      "metadata": {
        "id": "ma8UnxbkyMt2"
      },
      "outputs": [],
      "source": [
        "import pandas as pd\n",
        "\n",
        "from sklearn.model_selection import train_test_split\n",
        "\n",
        "#  untuk text pre-processing\n",
        "import tensorflow as tf\n",
        "from tensorflow.keras.preprocessing.text import Tokenizer\n",
        "from tensorflow.keras.preprocessing.sequence import pad_sequences\n",
        "\n",
        "# Untuk Modeling \n",
        "from tensorflow.keras.callbacks import EarlyStopping\n",
        "from tensorflow.keras import layers, models, regularizers,initializers\n",
        "from tensorflow.keras.layers import Embedding\n",
        "from keras.models import Sequential\n",
        "\n",
        "from matplotlib import pyplot as plt\n"
      ]
    },
    {
      "cell_type": "markdown",
      "metadata": {
        "id": "WPMk2RQIlFqr"
      },
      "source": [
        "# Membaca Dataset"
      ]
    },
    {
      "cell_type": "code",
      "execution_count": 5,
      "metadata": {
        "id": "GAvfaNijzVVu"
      },
      "outputs": [],
      "source": [
        "df = pd.read_csv('df_final.csv')"
      ]
    },
    {
      "cell_type": "code",
      "execution_count": 6,
      "metadata": {
        "id": "7A3Eb68U8cyZ"
      },
      "outputs": [],
      "source": [
        "del df['Unnamed: 0']"
      ]
    },
    {
      "cell_type": "markdown",
      "metadata": {
        "id": "QZ3Gu-SqlLY7"
      },
      "source": [
        "# Split Data"
      ]
    },
    {
      "cell_type": "code",
      "execution_count": 7,
      "metadata": {
        "id": "zJ1V-s22u-5q"
      },
      "outputs": [],
      "source": [
        "\n",
        "X = df['content'].values\n",
        "y = df['label'].values\n",
        "#buat data test dan traning\n",
        "X_train, X_test, y_train, y_test = train_test_split(X, y,\n",
        "    test_size=0.2, shuffle = True, random_state = 1)\n",
        "\n",
        "#buat data validation\n",
        "X_train, X_val, y_train, y_val = train_test_split(X_train, y_train, \n",
        "    test_size=0.25, random_state= 1) \n"
      ]
    },
    {
      "cell_type": "markdown",
      "metadata": {
        "id": "Xv0msodklewr"
      },
      "source": [
        "## Melihat hasil split data"
      ]
    },
    {
      "cell_type": "code",
      "execution_count": 8,
      "metadata": {
        "colab": {
          "base_uri": "https://localhost:8080/"
        },
        "id": "EPrQq2k6_W-_",
        "outputId": "7f5c659c-bdf5-4760-80b8-cbd6fea8b2bd"
      },
      "outputs": [
        {
          "name": "stdout",
          "output_type": "stream",
          "text": [
            "Bentuk X_train = (593,)\n",
            "Bentuk Y_train = (593,)\n",
            "Bentuk X_val = (198,)\n",
            "Bentuk Y_val = (198,)\n",
            "Bentuk X_test = (198,)\n",
            "Bentuk Y_test = (198,)\n"
          ]
        }
      ],
      "source": [
        "print(f'Bentuk X_train = {X_train.shape}',\n",
        "      f'Bentuk Y_train = {y_train.shape}',\n",
        "      f'Bentuk X_val = {X_val.shape}',\n",
        "      f'Bentuk Y_val = {y_val.shape}',\n",
        "      f'Bentuk X_test = {X_test.shape}',\n",
        "      f'Bentuk Y_test = {y_test.shape}', sep=\"\\n\")"
      ]
    },
    {
      "cell_type": "markdown",
      "metadata": {
        "id": "1LKaJSjklkiE"
      },
      "source": [
        "# Tokenizer"
      ]
    },
    {
      "cell_type": "code",
      "execution_count": 9,
      "metadata": {
        "id": "mfqrT4eqzyhL"
      },
      "outputs": [],
      "source": [
        "NUM_WORDS = 15000\n",
        "\n",
        "tokenizer = Tokenizer(num_words=NUM_WORDS, split=' ')\n",
        "tokenizer.fit_on_texts(X_train)\n",
        "word_index = tokenizer.fit_on_texts(X_train)"
      ]
    },
    {
      "cell_type": "markdown",
      "metadata": {
        "id": "5p3Ml5jOloRx"
      },
      "source": [
        "# Sequence"
      ]
    },
    {
      "cell_type": "code",
      "execution_count": 10,
      "metadata": {
        "id": "1tXpjl-1z4id"
      },
      "outputs": [],
      "source": [
        "x_train_token = tokenizer.texts_to_sequences(X_train)\n",
        "x_test_token = tokenizer.texts_to_sequences(X_test)\n",
        "x_val_token =tokenizer.texts_to_sequences(X_val)"
      ]
    },
    {
      "cell_type": "markdown",
      "metadata": {
        "id": "DUHApODylqsE"
      },
      "source": [
        "# Padding"
      ]
    },
    {
      "cell_type": "code",
      "execution_count": 11,
      "metadata": {
        "id": "iXihzDbwz8mX"
      },
      "outputs": [],
      "source": [
        "MAXLEN = 250\n",
        "\n",
        "x_train_padding = pad_sequences(x_train_token, maxlen=MAXLEN, padding='post', truncating='post')\n",
        "x_test_padding = pad_sequences(x_test_token, maxlen=MAXLEN, padding='post', truncating='post')\n",
        "x_valdding_padding = pad_sequences(x_val_token, maxlen=MAXLEN, padding='post', truncating='post')\n",
        "embeding_dim = 16"
      ]
    },
    {
      "cell_type": "markdown",
      "metadata": {
        "id": "fpjYDM-alvCh"
      },
      "source": [
        "# Modeling"
      ]
    },
    {
      "cell_type": "code",
      "execution_count": 12,
      "metadata": {
        "colab": {
          "base_uri": "https://localhost:8080/"
        },
        "id": "eji5ile20D1j",
        "outputId": "ed2d4a4c-ff30-4c78-db0f-0ee82aa8ffd6"
      },
      "outputs": [
        {
          "name": "stdout",
          "output_type": "stream",
          "text": [
            "Model: \"sequential\"\n",
            "_________________________________________________________________\n",
            " Layer (type)                Output Shape              Param #   \n",
            "=================================================================\n",
            " embedding (Embedding)       (None, 250, 20)           300000    \n",
            "                                                                 \n",
            " global_max_pooling1d (Globa  (None, 20)               0         \n",
            " lMaxPooling1D)                                                  \n",
            "                                                                 \n",
            " dense (Dense)               (None, 6)                 126       \n",
            "                                                                 \n",
            " dense_1 (Dense)             (None, 1)                 7         \n",
            "                                                                 \n",
            "=================================================================\n",
            "Total params: 300,133\n",
            "Trainable params: 300,133\n",
            "Non-trainable params: 0\n",
            "_________________________________________________________________\n"
          ]
        }
      ],
      "source": [
        "\n",
        "model = tf.keras.Sequential([\n",
        "    Embedding(input_dim=NUM_WORDS, input_length=MAXLEN, output_dim=20),\n",
        "    tf.keras.layers.GlobalMaxPooling1D(),\n",
        "    tf.keras.layers.Dense(6, activation='relu'),\n",
        "    tf.keras.layers.Dense(1, activation='sigmoid')\n",
        "])\n",
        "\n",
        "model.summary()"
      ]
    },
    {
      "cell_type": "markdown",
      "metadata": {
        "id": "ZByOsiGzl8Fd"
      },
      "source": [
        "## Early Stopping"
      ]
    },
    {
      "cell_type": "code",
      "execution_count": 13,
      "metadata": {
        "id": "zJL0hjF10EoH"
      },
      "outputs": [],
      "source": [
        "early_stopping = tf.keras.callbacks.EarlyStopping(\n",
        "    monitor='val_accuracy', \n",
        "    verbose=1,\n",
        "    patience=10,\n",
        "    mode='max',\n",
        "    restore_best_weights=True)"
      ]
    },
    {
      "cell_type": "markdown",
      "metadata": {
        "id": "bFR0YoIRmEVQ"
      },
      "source": [
        "## Callbacks"
      ]
    },
    {
      "cell_type": "code",
      "execution_count": 14,
      "metadata": {
        "id": "h2eaW9lz0IoY"
      },
      "outputs": [],
      "source": [
        "class MyCallback(tf.keras.callbacks.Callback):\n",
        "  def on_epoch_end(self, epoch, logs={}):\n",
        "    if(logs.get('accuracy')>= 0.96):\n",
        "      print(\"\\nAkurasi validasi telah mencapai >95%!\")\n",
        "      self.model.stop_training = True\n",
        "callbacks = MyCallback()"
      ]
    },
    {
      "cell_type": "markdown",
      "metadata": {
        "id": "MUt2Zb0TmGnf"
      },
      "source": [
        "## Model Compile"
      ]
    },
    {
      "cell_type": "code",
      "execution_count": 15,
      "metadata": {
        "id": "AHXVs5VM4RHK"
      },
      "outputs": [],
      "source": [
        "model.compile(optimizer=tf.keras.optimizers.Adam(learning_rate=0.001),\n",
        "              loss='binary_crossentropy',\n",
        "              metrics=['accuracy'])"
      ]
    },
    {
      "cell_type": "markdown",
      "metadata": {
        "id": "Dy2sFpYXmJGG"
      },
      "source": [
        "## Model Fitting\n"
      ]
    },
    {
      "cell_type": "code",
      "execution_count": 16,
      "metadata": {
        "colab": {
          "base_uri": "https://localhost:8080/"
        },
        "id": "DAfpQQMM0U-Z",
        "outputId": "526a0249-44be-48df-a118-d934348e0a5f"
      },
      "outputs": [
        {
          "name": "stdout",
          "output_type": "stream",
          "text": [
            "Epoch 1/30\n",
            "20/20 [==============================] - 1s 12ms/step - loss: 0.6831 - accuracy: 0.6492 - val_loss: 0.6718 - val_accuracy: 0.6919\n",
            "Epoch 2/30\n",
            "20/20 [==============================] - 0s 5ms/step - loss: 0.6691 - accuracy: 0.6492 - val_loss: 0.6556 - val_accuracy: 0.6919\n",
            "Epoch 3/30\n",
            "20/20 [==============================] - 0s 5ms/step - loss: 0.6555 - accuracy: 0.6492 - val_loss: 0.6409 - val_accuracy: 0.6919\n",
            "Epoch 4/30\n",
            "20/20 [==============================] - 0s 5ms/step - loss: 0.6424 - accuracy: 0.6492 - val_loss: 0.6264 - val_accuracy: 0.6919\n",
            "Epoch 5/30\n",
            "20/20 [==============================] - 0s 5ms/step - loss: 0.6255 - accuracy: 0.6492 - val_loss: 0.6111 - val_accuracy: 0.6919\n",
            "Epoch 6/30\n",
            "20/20 [==============================] - 0s 7ms/step - loss: 0.6072 - accuracy: 0.6509 - val_loss: 0.5940 - val_accuracy: 0.6970\n",
            "Epoch 7/30\n",
            "20/20 [==============================] - 0s 6ms/step - loss: 0.5855 - accuracy: 0.6560 - val_loss: 0.5773 - val_accuracy: 0.7121\n",
            "Epoch 8/30\n",
            "20/20 [==============================] - 0s 5ms/step - loss: 0.5608 - accuracy: 0.6830 - val_loss: 0.5582 - val_accuracy: 0.7273\n",
            "Epoch 9/30\n",
            "20/20 [==============================] - 0s 5ms/step - loss: 0.5315 - accuracy: 0.7403 - val_loss: 0.5367 - val_accuracy: 0.7424\n",
            "Epoch 10/30\n",
            "20/20 [==============================] - 0s 5ms/step - loss: 0.4973 - accuracy: 0.7858 - val_loss: 0.5129 - val_accuracy: 0.7828\n",
            "Epoch 11/30\n",
            "20/20 [==============================] - 0s 5ms/step - loss: 0.4586 - accuracy: 0.8347 - val_loss: 0.4880 - val_accuracy: 0.7980\n",
            "Epoch 12/30\n",
            "20/20 [==============================] - 0s 5ms/step - loss: 0.4162 - accuracy: 0.8836 - val_loss: 0.4617 - val_accuracy: 0.8081\n",
            "Epoch 13/30\n",
            "20/20 [==============================] - 0s 5ms/step - loss: 0.3722 - accuracy: 0.9140 - val_loss: 0.4370 - val_accuracy: 0.8182\n",
            "Epoch 14/30\n",
            "20/20 [==============================] - 0s 5ms/step - loss: 0.3289 - accuracy: 0.9376 - val_loss: 0.4127 - val_accuracy: 0.8232\n",
            "Epoch 15/30\n",
            "20/20 [==============================] - 0s 5ms/step - loss: 0.2877 - accuracy: 0.9460 - val_loss: 0.3933 - val_accuracy: 0.8485\n",
            "Epoch 16/30\n",
            "20/20 [==============================] - 0s 5ms/step - loss: 0.2502 - accuracy: 0.9562 - val_loss: 0.3772 - val_accuracy: 0.8485\n",
            "Epoch 17/30\n",
            "20/20 [==============================] - 0s 4ms/step - loss: 0.2171 - accuracy: 0.9663 - val_loss: 0.3645 - val_accuracy: 0.8535\n",
            "Epoch 18/30\n",
            "20/20 [==============================] - 0s 5ms/step - loss: 0.1881 - accuracy: 0.9730 - val_loss: 0.3532 - val_accuracy: 0.8586\n",
            "Epoch 19/30\n",
            "20/20 [==============================] - 0s 5ms/step - loss: 0.1634 - accuracy: 0.9815 - val_loss: 0.3458 - val_accuracy: 0.8586\n",
            "Epoch 20/30\n",
            "20/20 [==============================] - 0s 5ms/step - loss: 0.1431 - accuracy: 0.9848 - val_loss: 0.3399 - val_accuracy: 0.8586\n",
            "Epoch 21/30\n",
            "20/20 [==============================] - 0s 5ms/step - loss: 0.1249 - accuracy: 0.9865 - val_loss: 0.3365 - val_accuracy: 0.8535\n",
            "Epoch 22/30\n",
            "20/20 [==============================] - 0s 5ms/step - loss: 0.1101 - accuracy: 0.9899 - val_loss: 0.3344 - val_accuracy: 0.8535\n",
            "Epoch 23/30\n",
            "20/20 [==============================] - 0s 5ms/step - loss: 0.0974 - accuracy: 0.9899 - val_loss: 0.3327 - val_accuracy: 0.8586\n",
            "Epoch 24/30\n",
            "20/20 [==============================] - 0s 5ms/step - loss: 0.0863 - accuracy: 0.9916 - val_loss: 0.3321 - val_accuracy: 0.8586\n",
            "Epoch 25/30\n",
            "20/20 [==============================] - 0s 6ms/step - loss: 0.0768 - accuracy: 0.9933 - val_loss: 0.3315 - val_accuracy: 0.8535\n",
            "Epoch 26/30\n",
            "20/20 [==============================] - 0s 5ms/step - loss: 0.0688 - accuracy: 0.9933 - val_loss: 0.3316 - val_accuracy: 0.8535\n",
            "Epoch 27/30\n",
            "20/20 [==============================] - 0s 4ms/step - loss: 0.0616 - accuracy: 0.9949 - val_loss: 0.3328 - val_accuracy: 0.8535\n",
            "Epoch 28/30\n",
            "18/20 [==========================>...] - ETA: 0s - loss: 0.0553 - accuracy: 0.9944Restoring model weights from the end of the best epoch: 18.\n",
            "20/20 [==============================] - 0s 5ms/step - loss: 0.0552 - accuracy: 0.9949 - val_loss: 0.3336 - val_accuracy: 0.8535\n",
            "Epoch 28: early stopping\n"
          ]
        }
      ],
      "source": [
        "EPOCHS = 30\n",
        "BATCH_SIZE = 30\n",
        "history = model.fit(x_train_padding,\n",
        "                    y_train,\n",
        "                    epochs=EPOCHS,\n",
        "                    batch_size=BATCH_SIZE,\n",
        "                    validation_data=(x_valdding_padding, y_val),\n",
        "                    verbose=1,\n",
        "                    callbacks = early_stopping)"
      ]
    },
    {
      "cell_type": "markdown",
      "metadata": {
        "id": "kiayFl-1iuvE"
      },
      "source": [
        "## Evaluasi Model"
      ]
    },
    {
      "cell_type": "code",
      "execution_count": 17,
      "metadata": {
        "colab": {
          "base_uri": "https://localhost:8080/"
        },
        "id": "v3qg_VjR_MI4",
        "outputId": "b46f3f75-8697-4ab3-885f-5fd79ff39fab"
      },
      "outputs": [
        {
          "name": "stdout",
          "output_type": "stream",
          "text": [
            "ACCURACY: 0.8888888955116272\n",
            "LOSS: 0.3463083505630493\n"
          ]
        }
      ],
      "source": [
        "score = model.evaluate(x_test_padding,y_test, verbose = 0)\n",
        "print(\"ACCURACY:\",score[1])\n",
        "print(\"LOSS:\",score[0])"
      ]
    },
    {
      "cell_type": "markdown",
      "metadata": {
        "id": "eLkqy4EZnEAW"
      },
      "source": [
        "## Visualisasi hasil model\n"
      ]
    },
    {
      "cell_type": "code",
      "execution_count": 18,
      "metadata": {
        "colab": {
          "base_uri": "https://localhost:8080/",
          "height": 621
        },
        "id": "xJ_ysEvSwhtM",
        "outputId": "8efc2eca-6fc1-43fd-d651-6461d40df9fe"
      },
      "outputs": [
        {
          "data": {
            "image/png": "[encoded data removed]",
            "text/plain": [
              "<Figure size 1000x1000 with 1 Axes>"
            ]
          },
          "metadata": {},
          "output_type": "display_data"
        }
      ],
      "source": [
        "plt.figure(1, figsize=(10,10))\n",
        "plt.plot(range(len(history.history['accuracy'])), \n",
        "         history.history['accuracy'],\n",
        "         'co-',\n",
        "         label='training')\n",
        "plt.plot(range(len(history.history['val_accuracy'])), \n",
        "         history.history['val_accuracy'],\n",
        "         'bD--',\n",
        "         label='validation')\n",
        "plt.title('Training & Validation Accuracy')\n",
        "plt.legend()\n",
        "plt.xlabel(\"Epochs\")\n",
        "plt.ylabel(\"Accuracy\")\n",
        "plt.show()\n"
      ]
    },
    {
      "cell_type": "code",
      "execution_count": 19,
      "metadata": {
        "colab": {
          "base_uri": "https://localhost:8080/",
          "height": 621
        },
        "id": "tvEtU8pgxTJ0",
        "outputId": "587a3dfe-1533-4552-e9a2-cad54b889589"
      },
      "outputs": [
        {
          "data": {
            "image/png": "[encoded data removed]",
            "text/plain": [
              "<Figure size 1000x1000 with 1 Axes>"
            ]
          },
          "metadata": {},
          "output_type": "display_data"
        }
      ],
      "source": [
        "plt.figure(1, figsize=(10,10))\n",
        "plt.plot(range(len(history.history['loss'])), \n",
        "         history.history['loss'],\n",
        "          'co-',\n",
        "         label='training')\n",
        "plt.plot(range(len(history.history['val_loss'])), \n",
        "         history.history['val_loss'],\n",
        "         'bD--',\n",
        "         label='validation')\n",
        "plt.title('Training & Validation Loss')\n",
        "plt.legend()\n",
        "plt.xlabel(\"Epochs\")\n",
        "plt.ylabel(\"Loss\")\n",
        "plt.show()\n"
      ]
    },
    {
      "cell_type": "markdown",
      "metadata": {
        "id": "zI5haPnlmPV1"
      },
      "source": [
        "## Menyimpan Model"
      ]
    },
    {
      "cell_type": "code",
      "execution_count": 20,
      "metadata": {
        "id": "dUt0p0CBKmk2"
      },
      "outputs": [],
      "source": [
        "model.save('model1.h5')"
      ]
    },
    {
      "cell_type": "code",
      "execution_count": 21,
      "metadata": {
        "id": "haR6ZEALKwJq"
      },
      "outputs": [],
      "source": [
        "load = tf.keras.models.load_model('model1.h5')"
      ]
    },
    {
      "cell_type": "markdown",
      "metadata": {
        "id": "_Ge1Znkli8Qy"
      },
      "source": [
        "## Testing Model"
      ]
    },
    {
      "cell_type": "code",
      "execution_count": 22,
      "metadata": {
        "id": "0V1PLNfNKYpH"
      },
      "outputs": [],
      "source": [
        "POSITIF = \"POSITIF\"\n",
        "NEGATIF = \"NEGATIF\"\n",
        "SENTIMENT_THRESHOLDS = (0.4, 0.7)\n",
        "def decode_sentiment(score, include_neutral=True):\n",
        "    if include_neutral:        \n",
        "        label = NEGATIF\n",
        "        if score <= SENTIMENT_THRESHOLDS[0]:\n",
        "            label = NEGATIF\n",
        "        elif score >= SENTIMENT_THRESHOLDS[1]:\n",
        "            label = POSITIF\n",
        "\n",
        "        return label\n",
        "    else:\n",
        "        return NEGATIF if score < 0.5 else POSITIF"
      ]
    },
    {
      "cell_type": "code",
      "execution_count": 23,
      "metadata": {
        "id": "fswbPqG0KZKt"
      },
      "outputs": [],
      "source": [
        "def Predict(text, include_neutral=True):\n",
        "    x_test = pad_sequences(tokenizer.texts_to_sequences([text]), maxlen=MAXLEN)\n",
        "    # Predict\n",
        "    score = load.predict([x_test])[0]\n",
        "    # Decode sentiment\n",
        "    label = decode_sentiment(score, include_neutral=False)\n",
        "\n",
        "    return {\"label\": label, \"score\": float(score)} "
      ]
    },
    {
      "cell_type": "code",
      "execution_count": 24,
      "metadata": {
        "colab": {
          "base_uri": "https://localhost:8080/"
        },
        "id": "Q-TsbMpDKdt7",
        "outputId": "d1cb0072-422e-4756-d076-8e42e8804af2"
      },
      "outputs": [
        {
          "name": "stdout",
          "output_type": "stream",
          "text": [
            "1/1 [==============================] - 0s 73ms/step\n"
          ]
        },
        {
          "data": {
            "text/plain": [
              "{'label': 'NEGATIF', 'score': 0.228986918926239}"
            ]
          },
          "execution_count": 24,
          "metadata": {},
          "output_type": "execute_result"
        }
      ],
      "source": [
        "Predict(\"aplikasi ini jelek, tolong diperbaiki lagi karna banyak error \")"
      ]
    },
    {
      "cell_type": "code",
      "execution_count": 25,
      "metadata": {
        "colab": {
          "base_uri": "https://localhost:8080/"
        },
        "id": "vLQExuv_pGi7",
        "outputId": "be560706-7fca-4323-b6fa-1a0635a77a63"
      },
      "outputs": [
        {
          "name": "stdout",
          "output_type": "stream",
          "text": [
            "1/1 [==============================] - 0s 17ms/step\n"
          ]
        },
        {
          "data": {
            "text/plain": [
              "{'label': 'POSITIF', 'score': 0.8547245860099792}"
            ]
          },
          "execution_count": 25,
          "metadata": {},
          "output_type": "execute_result"
        }
      ],
      "source": [
        "Predict(\"aplikasinya sangat bagus, saya sangat tertolong karena bebas biaya admin\")"
      ]
    }
  ],
  "metadata": {
    "accelerator": "GPU",
    "colab": {
      "provenance": []
    },
    "gpuClass": "standard",
    "kernelspec": {
      "display_name": "Python 3.10.7 64-bit",
      "language": "python",
      "name": "python3"
    },
    "language_info": {
      "codemirror_mode": {
        "name": "ipython",
        "version": 3
      },
      "file_extension": ".py",
      "mimetype": "text/x-python",
      "name": "python",
      "nbconvert_exporter": "python",
      "pygments_lexer": "ipython3",
      "version": "3.10.7"
    },
    "vscode": {
      "interpreter": {
        "hash": "107d7b120a5b68773a87d4067e673630b35702e55ebab3138143d08b1c4d7cbc"
      }
    }
  },
  "nbformat": 4,
  "nbformat_minor": 0
}
