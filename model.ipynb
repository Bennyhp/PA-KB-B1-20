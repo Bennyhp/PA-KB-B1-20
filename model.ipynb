{
  "nbformat": 4,
  "nbformat_minor": 0,
  "metadata": {
    "colab": {
      "provenance": []
    },
    "kernelspec": {
      "name": "python3",
      "display_name": "Python 3"
    },
    "language_info": {
      "name": "python"
    },
    "accelerator": "GPU",
    "gpuClass": "standard"
  },
  "cells": [
    {
      "cell_type": "markdown",
      "source": [
        "# Import Library"
      ],
      "metadata": {
        "id": "OjQdSZO_k_CR"
      }
    },
    {
      "cell_type": "code",
      "source": [
        "import pandas as pd\n",
        "\n",
        "from sklearn.model_selection import train_test_split\n",
        "\n",
        "#  untuk text pre-processing\n",
        "import tensorflow as tf\n",
        "from tensorflow.keras.preprocessing.text import Tokenizer\n",
        "from tensorflow.keras.preprocessing.sequence import pad_sequences\n",
        "\n",
        "# Untuk Modeling \n",
        "from tensorflow.keras.callbacks import EarlyStopping\n",
        "from tensorflow.keras import layers, models, regularizers,initializers\n",
        "from tensorflow.keras.layers import Embedding\n",
        "from keras.models import Sequential\n",
        "\n",
        "from matplotlib import pyplot as plt\n"
      ],
      "metadata": {
        "id": "ma8UnxbkyMt2"
      },
      "execution_count": 171,
      "outputs": []
    },
    {
      "cell_type": "markdown",
      "source": [
        "# Load Data"
      ],
      "metadata": {
        "id": "WPMk2RQIlFqr"
      }
    },
    {
      "cell_type": "code",
      "source": [
        "df = pd.read_csv('df_final.csv')"
      ],
      "metadata": {
        "id": "GAvfaNijzVVu"
      },
      "execution_count": 172,
      "outputs": []
    },
    {
      "cell_type": "code",
      "source": [
        "del df['Unnamed: 0']"
      ],
      "metadata": {
        "id": "7A3Eb68U8cyZ"
      },
      "execution_count": 173,
      "outputs": []
    },
    {
      "cell_type": "markdown",
      "source": [
        "# Spilt Data"
      ],
      "metadata": {
        "id": "QZ3Gu-SqlLY7"
      }
    },
    {
      "cell_type": "code",
      "execution_count": 174,
      "metadata": {
        "id": "zJ1V-s22u-5q"
      },
      "outputs": [],
      "source": [
        "\n",
        "X = df['content'].values\n",
        "y = df['label'].values\n",
        "#buat data test dan traning\n",
        "X_train, X_test, y_train, y_test = train_test_split(X, y,\n",
        "    test_size=0.2, shuffle = True, random_state = 1)\n",
        "\n",
        "#buat data validation\n",
        "X_train, X_val, y_train, y_val = train_test_split(X_train, y_train, \n",
        "    test_size=0.25, random_state= 1) \n"
      ]
    },
    {
      "cell_type": "markdown",
      "source": [
        "## Melihat hasil spilit data"
      ],
      "metadata": {
        "id": "Xv0msodklewr"
      }
    },
    {
      "cell_type": "code",
      "source": [
        "print(f'Bentuk X_train = {X_train.shape}',\n",
        "      f'Bentuk Y_train = {y_train.shape}',\n",
        "      f'Bentuk X_val = {X_val.shape}',\n",
        "      f'Bentuk Y_val = {y_val.shape}',\n",
        "      f'Bentuk X_test = {X_test.shape}',\n",
        "      f'Bentuk Y_test = {y_test.shape}', sep=\"\\n\")"
      ],
      "metadata": {
        "colab": {
          "base_uri": "https://localhost:8080/"
        },
        "id": "EPrQq2k6_W-_",
        "outputId": "7f5c659c-bdf5-4760-80b8-cbd6fea8b2bd"
      },
      "execution_count": 175,
      "outputs": [
        {
          "output_type": "stream",
          "name": "stdout",
          "text": [
            "Bentuk X_train = (593,)\n",
            "Bentuk Y_train = (593,)\n",
            "Bentuk X_val = (198,)\n",
            "Bentuk Y_val = (198,)\n",
            "Bentuk X_test = (198,)\n",
            "Bentuk Y_test = (198,)\n"
          ]
        }
      ]
    },
    {
      "cell_type": "markdown",
      "source": [
        "# Tokenizer"
      ],
      "metadata": {
        "id": "1LKaJSjklkiE"
      }
    },
    {
      "cell_type": "code",
      "source": [
        "NUM_WORDS = 15000\n",
        "\n",
        "tokenizer = Tokenizer(num_words=NUM_WORDS, split=' ')\n",
        "tokenizer.fit_on_texts(X_train)\n",
        "word_index = tokenizer.fit_on_texts(X_train)"
      ],
      "metadata": {
        "id": "mfqrT4eqzyhL"
      },
      "execution_count": 176,
      "outputs": []
    },
    {
      "cell_type": "markdown",
      "source": [
        "# Sequence"
      ],
      "metadata": {
        "id": "5p3Ml5jOloRx"
      }
    },
    {
      "cell_type": "code",
      "source": [
        "x_train_token = tokenizer.texts_to_sequences(X_train)\n",
        "x_test_token = tokenizer.texts_to_sequences(X_test)\n",
        "x_val_token =tokenizer.texts_to_sequences(X_val)"
      ],
      "metadata": {
        "id": "1tXpjl-1z4id"
      },
      "execution_count": 178,
      "outputs": []
    },
    {
      "cell_type": "markdown",
      "source": [
        "# Padding"
      ],
      "metadata": {
        "id": "DUHApODylqsE"
      }
    },
    {
      "cell_type": "code",
      "source": [
        "MAXLEN = 250\n",
        "\n",
        "x_train_padding = pad_sequences(x_train_token, maxlen=MAXLEN, padding='post', truncating='post')\n",
        "x_test_padding = pad_sequences(x_test_token, maxlen=MAXLEN, padding='post', truncating='post')\n",
        "x_valdding_padding = pad_sequences(x_val_token, maxlen=MAXLEN, padding='post', truncating='post')\n",
        "embeding_dim = 16"
      ],
      "metadata": {
        "id": "iXihzDbwz8mX"
      },
      "execution_count": 179,
      "outputs": []
    },
    {
      "cell_type": "markdown",
      "source": [
        "# Modeling"
      ],
      "metadata": {
        "id": "fpjYDM-alvCh"
      }
    },
    {
      "cell_type": "code",
      "source": [
        "\n",
        "model = tf.keras.Sequential([\n",
        "    Embedding(input_dim=NUM_WORDS, input_length=MAXLEN, output_dim=20),\n",
        "    tf.keras.layers.GlobalMaxPooling1D(),\n",
        "    tf.keras.layers.Dense(6, activation='relu'),\n",
        "    tf.keras.layers.Dense(1, activation='sigmoid')\n",
        "])\n",
        "\n",
        "model.summary()"
      ],
      "metadata": {
        "id": "eji5ile20D1j",
        "colab": {
          "base_uri": "https://localhost:8080/"
        },
        "outputId": "ed2d4a4c-ff30-4c78-db0f-0ee82aa8ffd6"
      },
      "execution_count": 180,
      "outputs": [
        {
          "output_type": "stream",
          "name": "stdout",
          "text": [
            "Model: \"sequential_5\"\n",
            "_________________________________________________________________\n",
            " Layer (type)                Output Shape              Param #   \n",
            "=================================================================\n",
            " embedding_5 (Embedding)     (None, 250, 20)           300000    \n",
            "                                                                 \n",
            " global_max_pooling1d_5 (Glo  (None, 20)               0         \n",
            " balMaxPooling1D)                                                \n",
            "                                                                 \n",
            " dense_10 (Dense)            (None, 6)                 126       \n",
            "                                                                 \n",
            " dense_11 (Dense)            (None, 1)                 7         \n",
            "                                                                 \n",
            "=================================================================\n",
            "Total params: 300,133\n",
            "Trainable params: 300,133\n",
            "Non-trainable params: 0\n",
            "_________________________________________________________________\n"
          ]
        }
      ]
    },
    {
      "cell_type": "markdown",
      "source": [
        "## Early Stopping"
      ],
      "metadata": {
        "id": "ZByOsiGzl8Fd"
      }
    },
    {
      "cell_type": "code",
      "source": [
        "early_stopping = tf.keras.callbacks.EarlyStopping(\n",
        "    monitor='val_accuracy', \n",
        "    verbose=1,\n",
        "    patience=10,\n",
        "    mode='max',\n",
        "    restore_best_weights=True)"
      ],
      "metadata": {
        "id": "zJL0hjF10EoH"
      },
      "execution_count": 181,
      "outputs": []
    },
    {
      "cell_type": "markdown",
      "source": [
        "## Callbacks"
      ],
      "metadata": {
        "id": "bFR0YoIRmEVQ"
      }
    },
    {
      "cell_type": "code",
      "source": [
        "class MyCallback(tf.keras.callbacks.Callback):\n",
        "  def on_epoch_end(self, epoch, logs={}):\n",
        "    if(logs.get('accuracy')>= 0.96):\n",
        "      print(\"\\nAkurasi validasi telah mencapai >95%!\")\n",
        "      self.model.stop_training = True\n",
        "callbacks = MyCallback()"
      ],
      "metadata": {
        "id": "h2eaW9lz0IoY"
      },
      "execution_count": 182,
      "outputs": []
    },
    {
      "cell_type": "markdown",
      "source": [
        "## Model Compile"
      ],
      "metadata": {
        "id": "MUt2Zb0TmGnf"
      }
    },
    {
      "cell_type": "code",
      "source": [
        "model.compile(optimizer=tf.keras.optimizers.Adam(learning_rate=0.001),\n",
        "              loss='binary_crossentropy',\n",
        "              metrics=['accuracy'])"
      ],
      "metadata": {
        "id": "AHXVs5VM4RHK"
      },
      "execution_count": 183,
      "outputs": []
    },
    {
      "cell_type": "markdown",
      "source": [
        "## Model Fitting\n"
      ],
      "metadata": {
        "id": "Dy2sFpYXmJGG"
      }
    },
    {
      "cell_type": "code",
      "source": [
        "EPOCHS = 30\n",
        "BATCH_SIZE = 30\n",
        "history = model.fit(x_train_padding,\n",
        "                    y_train,\n",
        "                    epochs=EPOCHS,\n",
        "                    batch_size=BATCH_SIZE,\n",
        "                    validation_data=(x_valdding_padding, y_val),\n",
        "                    verbose=1,\n",
        "                    callbacks = early_stopping)"
      ],
      "metadata": {
        "id": "DAfpQQMM0U-Z",
        "colab": {
          "base_uri": "https://localhost:8080/"
        },
        "outputId": "526a0249-44be-48df-a118-d934348e0a5f"
      },
      "execution_count": 184,
      "outputs": [
        {
          "output_type": "stream",
          "name": "stdout",
          "text": [
            "Epoch 1/30\n",
            "20/20 [==============================] - 1s 12ms/step - loss: 0.6806 - accuracy: 0.6492 - val_loss: 0.6705 - val_accuracy: 0.6919\n",
            "Epoch 2/30\n",
            "20/20 [==============================] - 0s 5ms/step - loss: 0.6677 - accuracy: 0.6492 - val_loss: 0.6557 - val_accuracy: 0.6919\n",
            "Epoch 3/30\n",
            "20/20 [==============================] - 0s 6ms/step - loss: 0.6548 - accuracy: 0.6492 - val_loss: 0.6406 - val_accuracy: 0.6919\n",
            "Epoch 4/30\n",
            "20/20 [==============================] - 0s 6ms/step - loss: 0.6411 - accuracy: 0.6492 - val_loss: 0.6256 - val_accuracy: 0.6919\n",
            "Epoch 5/30\n",
            "20/20 [==============================] - 0s 6ms/step - loss: 0.6267 - accuracy: 0.6492 - val_loss: 0.6106 - val_accuracy: 0.6919\n",
            "Epoch 6/30\n",
            "20/20 [==============================] - 0s 5ms/step - loss: 0.6094 - accuracy: 0.6492 - val_loss: 0.5881 - val_accuracy: 0.6919\n",
            "Epoch 7/30\n",
            "20/20 [==============================] - 0s 5ms/step - loss: 0.5830 - accuracy: 0.6492 - val_loss: 0.5653 - val_accuracy: 0.6919\n",
            "Epoch 8/30\n",
            "20/20 [==============================] - 0s 6ms/step - loss: 0.5587 - accuracy: 0.6492 - val_loss: 0.5475 - val_accuracy: 0.6919\n",
            "Epoch 9/30\n",
            "20/20 [==============================] - 0s 5ms/step - loss: 0.5334 - accuracy: 0.6492 - val_loss: 0.5282 - val_accuracy: 0.6919\n",
            "Epoch 10/30\n",
            "20/20 [==============================] - 0s 6ms/step - loss: 0.5040 - accuracy: 0.6492 - val_loss: 0.5080 - val_accuracy: 0.6919\n",
            "Epoch 11/30\n",
            "20/20 [==============================] - 0s 5ms/step - loss: 0.4729 - accuracy: 0.6543 - val_loss: 0.4888 - val_accuracy: 0.6970\n",
            "Epoch 12/30\n",
            "20/20 [==============================] - 0s 6ms/step - loss: 0.4402 - accuracy: 0.7032 - val_loss: 0.4672 - val_accuracy: 0.7172\n",
            "Epoch 13/30\n",
            "20/20 [==============================] - 0s 5ms/step - loss: 0.4032 - accuracy: 0.8027 - val_loss: 0.4432 - val_accuracy: 0.7879\n",
            "Epoch 14/30\n",
            "20/20 [==============================] - 0s 6ms/step - loss: 0.3620 - accuracy: 0.8735 - val_loss: 0.4181 - val_accuracy: 0.8081\n",
            "Epoch 15/30\n",
            "20/20 [==============================] - 0s 6ms/step - loss: 0.3215 - accuracy: 0.9157 - val_loss: 0.3954 - val_accuracy: 0.8283\n",
            "Epoch 16/30\n",
            "20/20 [==============================] - 0s 6ms/step - loss: 0.2849 - accuracy: 0.9376 - val_loss: 0.3771 - val_accuracy: 0.8384\n",
            "Epoch 17/30\n",
            "20/20 [==============================] - 0s 5ms/step - loss: 0.2533 - accuracy: 0.9528 - val_loss: 0.3618 - val_accuracy: 0.8485\n",
            "Epoch 18/30\n",
            "20/20 [==============================] - 0s 6ms/step - loss: 0.2244 - accuracy: 0.9663 - val_loss: 0.3497 - val_accuracy: 0.8535\n",
            "Epoch 19/30\n",
            "20/20 [==============================] - 0s 6ms/step - loss: 0.1994 - accuracy: 0.9747 - val_loss: 0.3377 - val_accuracy: 0.8586\n",
            "Epoch 20/30\n",
            "20/20 [==============================] - 0s 5ms/step - loss: 0.1773 - accuracy: 0.9831 - val_loss: 0.3278 - val_accuracy: 0.8535\n",
            "Epoch 21/30\n",
            "20/20 [==============================] - 0s 6ms/step - loss: 0.1579 - accuracy: 0.9882 - val_loss: 0.3188 - val_accuracy: 0.8636\n",
            "Epoch 22/30\n",
            "20/20 [==============================] - 0s 6ms/step - loss: 0.1413 - accuracy: 0.9933 - val_loss: 0.3155 - val_accuracy: 0.8586\n",
            "Epoch 23/30\n",
            "20/20 [==============================] - 0s 6ms/step - loss: 0.1256 - accuracy: 0.9933 - val_loss: 0.3056 - val_accuracy: 0.8737\n",
            "Epoch 24/30\n",
            "20/20 [==============================] - 0s 6ms/step - loss: 0.1119 - accuracy: 0.9933 - val_loss: 0.3022 - val_accuracy: 0.8687\n",
            "Epoch 25/30\n",
            "20/20 [==============================] - 0s 6ms/step - loss: 0.0996 - accuracy: 0.9949 - val_loss: 0.2989 - val_accuracy: 0.8737\n",
            "Epoch 26/30\n",
            "20/20 [==============================] - 0s 6ms/step - loss: 0.0890 - accuracy: 0.9966 - val_loss: 0.2950 - val_accuracy: 0.8838\n",
            "Epoch 27/30\n",
            "20/20 [==============================] - 0s 5ms/step - loss: 0.0799 - accuracy: 0.9966 - val_loss: 0.2921 - val_accuracy: 0.8838\n",
            "Epoch 28/30\n",
            "20/20 [==============================] - 0s 6ms/step - loss: 0.0716 - accuracy: 0.9966 - val_loss: 0.2876 - val_accuracy: 0.8889\n",
            "Epoch 29/30\n",
            "20/20 [==============================] - 0s 6ms/step - loss: 0.0644 - accuracy: 0.9983 - val_loss: 0.2870 - val_accuracy: 0.8889\n",
            "Epoch 30/30\n",
            "20/20 [==============================] - 0s 6ms/step - loss: 0.0578 - accuracy: 0.9983 - val_loss: 0.2864 - val_accuracy: 0.8889\n"
          ]
        }
      ]
    },
    {
      "cell_type": "markdown",
      "source": [
        "## Model Evaluate"
      ],
      "metadata": {
        "id": "kiayFl-1iuvE"
      }
    },
    {
      "cell_type": "code",
      "source": [
        "score = model.evaluate(x_test_padding,y_test, verbose = 0)\n",
        "print(\"ACCURACY:\",score[1])\n",
        "print(\"LOSS:\",score[0])"
      ],
      "metadata": {
        "colab": {
          "base_uri": "https://localhost:8080/"
        },
        "id": "v3qg_VjR_MI4",
        "outputId": "b46f3f75-8697-4ab3-885f-5fd79ff39fab"
      },
      "execution_count": 185,
      "outputs": [
        {
          "output_type": "stream",
          "name": "stdout",
          "text": [
            "ACCURACY: 0.8636363744735718\n",
            "LOSS: 0.34855446219444275\n"
          ]
        }
      ]
    },
    {
      "cell_type": "markdown",
      "source": [
        "## Visualisasi hasil model\n"
      ],
      "metadata": {
        "id": "eLkqy4EZnEAW"
      }
    },
    {
      "cell_type": "code",
      "source": [
        "plt.figure(1, figsize=(10,10))\n",
        "plt.plot(range(len(history.history['accuracy'])), \n",
        "         history.history['accuracy'],\n",
        "         'co-',\n",
        "         label='training')\n",
        "plt.plot(range(len(history.history['val_accuracy'])), \n",
        "         history.history['val_accuracy'],\n",
        "         'bD--',\n",
        "         label='validation')\n",
        "plt.title('Training & Validation Accuracy')\n",
        "plt.legend()\n",
        "plt.xlabel(\"Epochs\")\n",
        "plt.ylabel(\"Accuracy\")\n",
        "plt.show()\n"
      ],
      "metadata": {
        "colab": {
          "base_uri": "https://localhost:8080/",
          "height": 621
        },
        "id": "xJ_ysEvSwhtM",
        "outputId": "8efc2eca-6fc1-43fd-d651-6461d40df9fe"
      },
      "execution_count": 186,
      "outputs": [
        {
          "output_type": "display_data",
          "data": {
            "text/plain": [
              "<Figure size 720x720 with 1 Axes>"
            ],
            "image/png": "[encoded data removed]"
          },
          "metadata": {
            "needs_background": "light"
          }
        }
      ]
    },
    {
      "cell_type": "code",
      "source": [
        "plt.plot(range(len(history.history['loss'])), \n",
        "         history.history['loss'],\n",
        "          'co-',\n",
        "         label='training')\n",
        "plt.plot(range(len(history.history['val_loss'])), \n",
        "         history.history['val_loss'],\n",
        "         'bD--',\n",
        "         label='validation')\n",
        "plt.title('Training & Validation Loss')\n",
        "plt.legend()\n",
        "plt.xlabel(\"Epochs\")\n",
        "plt.ylabel(\"Loss\")\n",
        "plt.show()\n"
      ],
      "metadata": {
        "colab": {
          "base_uri": "https://localhost:8080/",
          "height": 295
        },
        "id": "tvEtU8pgxTJ0",
        "outputId": "a5503fa7-28c1-491d-d1ea-aa3ecceacb87"
      },
      "execution_count": 187,
      "outputs": [
        {
          "output_type": "display_data",
          "data": {
            "text/plain": [
              "<Figure size 432x288 with 1 Axes>"
            ],
            "image/png": "[encoded data removed]"
          },
          "metadata": {
            "needs_background": "light"
          }
        }
      ]
    },
    {
      "cell_type": "markdown",
      "source": [
        "## Model Saving"
      ],
      "metadata": {
        "id": "zI5haPnlmPV1"
      }
    },
    {
      "cell_type": "code",
      "source": [
        "model.save('model1.h5')"
      ],
      "metadata": {
        "id": "dUt0p0CBKmk2"
      },
      "execution_count": 188,
      "outputs": []
    },
    {
      "cell_type": "code",
      "source": [
        "load = tf.keras.models.load_model('model1.h5')"
      ],
      "metadata": {
        "id": "haR6ZEALKwJq"
      },
      "execution_count": 189,
      "outputs": []
    },
    {
      "cell_type": "markdown",
      "source": [
        "## Model Testing"
      ],
      "metadata": {
        "id": "_Ge1Znkli8Qy"
      }
    },
    {
      "cell_type": "code",
      "source": [
        "POSITIVE = \"POSITIVE\"\n",
        "NEGATIVE = \"NEGATIVE\"\n",
        "SENTIMENT_THRESHOLDS = (0.4, 0.7)\n",
        "def decode_sentiment(score, include_neutral=True):\n",
        "    if include_neutral:        \n",
        "        label = NEGATIVE\n",
        "        if score <= SENTIMENT_THRESHOLDS[0]:\n",
        "            label = NEGATIVE\n",
        "        elif score >= SENTIMENT_THRESHOLDS[1]:\n",
        "            label = POSITIVE\n",
        "\n",
        "        return label\n",
        "    else:\n",
        "        return NEGATIVE if score < 0.5 else POSITIVE"
      ],
      "metadata": {
        "id": "0V1PLNfNKYpH"
      },
      "execution_count": 190,
      "outputs": []
    },
    {
      "cell_type": "code",
      "source": [
        "def Predict(text, include_neutral=True):\n",
        "    x_test = pad_sequences(tokenizer.texts_to_sequences([text]), maxlen=MAXLEN)\n",
        "    # Predict\n",
        "    score = load.predict([x_test])[0]\n",
        "    # Decode sentiment\n",
        "    label = decode_sentiment(score, include_neutral=False)\n",
        "\n",
        "    return {\"label\": label, \"score\": float(score)} "
      ],
      "metadata": {
        "id": "fswbPqG0KZKt"
      },
      "execution_count": 191,
      "outputs": []
    },
    {
      "cell_type": "code",
      "source": [
        "Predict(\"aplikasi ini jelek, tolong diperbaiki lagi karna banyak error \")"
      ],
      "metadata": {
        "colab": {
          "base_uri": "https://localhost:8080/"
        },
        "id": "Q-TsbMpDKdt7",
        "outputId": "d1cb0072-422e-4756-d076-8e42e8804af2"
      },
      "execution_count": 193,
      "outputs": [
        {
          "output_type": "stream",
          "name": "stdout",
          "text": [
            "1/1 [==============================] - 0s 24ms/step\n"
          ]
        },
        {
          "output_type": "execute_result",
          "data": {
            "text/plain": [
              "{'label': 'NEGATIVE', 'score': 0.049197059124708176}"
            ]
          },
          "metadata": {},
          "execution_count": 193
        }
      ]
    },
    {
      "cell_type": "code",
      "source": [
        "Predict(\"aplikasinya sangat bagus, saya sangat tertolong karena bebas biaya admin\")"
      ],
      "metadata": {
        "colab": {
          "base_uri": "https://localhost:8080/"
        },
        "id": "vLQExuv_pGi7",
        "outputId": "be560706-7fca-4323-b6fa-1a0635a77a63"
      },
      "execution_count": 197,
      "outputs": [
        {
          "output_type": "stream",
          "name": "stdout",
          "text": [
            "1/1 [==============================] - 0s 24ms/step\n"
          ]
        },
        {
          "output_type": "execute_result",
          "data": {
            "text/plain": [
              "{'label': 'POSITIVE', 'score': 0.8528755307197571}"
            ]
          },
          "metadata": {},
          "execution_count": 197
        }
      ]
    }
  ]
}