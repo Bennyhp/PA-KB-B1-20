{
  "cells": [
    {
      "cell_type": "markdown",
      "metadata": {
        "id": "OjQdSZO_k_CR"
      },
      "source": [
        "# Import Library"
      ]
    },
    {
      "cell_type": "code",
      "execution_count": 171,
      "metadata": {
        "id": "ma8UnxbkyMt2"
      },
      "outputs": [],
      "source": [
        "import pandas as pd\n",
        "\n",
        "from sklearn.model_selection import train_test_split\n",
        "\n",
        "#  untuk text pre-processing\n",
        "import tensorflow as tf\n",
        "from tensorflow.keras.preprocessing.text import Tokenizer\n",
        "from tensorflow.keras.preprocessing.sequence import pad_sequences\n",
        "\n",
        "# Untuk Modeling \n",
        "from tensorflow.keras.callbacks import EarlyStopping\n",
        "from tensorflow.keras import layers, models, regularizers,initializers\n",
        "from tensorflow.keras.layers import Embedding\n",
        "from keras.models import Sequential\n",
        "\n",
        "from matplotlib import pyplot as plt\n"
      ]
    },
    {
      "cell_type": "markdown",
      "metadata": {
        "id": "WPMk2RQIlFqr"
      },
      "source": [
        "# Membaca Dataset"
      ]
    },
    {
      "cell_type": "code",
      "execution_count": 172,
      "metadata": {
        "id": "GAvfaNijzVVu"
      },
      "outputs": [],
      "source": [
        "df = pd.read_csv('df_final.csv')"
      ]
    },
    {
      "cell_type": "code",
      "execution_count": 173,
      "metadata": {
        "id": "7A3Eb68U8cyZ"
      },
      "outputs": [],
      "source": [
        "del df['Unnamed: 0']"
      ]
    },
    {
      "cell_type": "markdown",
      "metadata": {
        "id": "QZ3Gu-SqlLY7"
      },
      "source": [
        "# Split Data"
      ]
    },
    {
      "cell_type": "code",
      "execution_count": 174,
      "metadata": {
        "id": "zJ1V-s22u-5q"
      },
      "outputs": [],
      "source": [
        "\n",
        "X = df['content'].values\n",
        "y = df['label'].values\n",
        "#buat data test dan traning\n",
        "X_train, X_test, y_train, y_test = train_test_split(X, y,\n",
        "    test_size=0.2, shuffle = True, random_state = 1)\n",
        "\n",
        "#buat data validation\n",
        "X_train, X_val, y_train, y_val = train_test_split(X_train, y_train, \n",
        "    test_size=0.25, random_state= 1) \n"
      ]
    },
    {
      "cell_type": "markdown",
      "metadata": {
        "id": "Xv0msodklewr"
      },
      "source": [
        "## Melihat hasil split data"
      ]
    },
    {
      "cell_type": "code",
      "execution_count": 175,
      "metadata": {
        "colab": {
          "base_uri": "https://localhost:8080/"
        },
        "id": "EPrQq2k6_W-_",
        "outputId": "7f5c659c-bdf5-4760-80b8-cbd6fea8b2bd"
      },
      "outputs": [
        {
          "name": "stdout",
          "output_type": "stream",
          "text": [
            "Bentuk X_train = (593,)\n",
            "Bentuk Y_train = (593,)\n",
            "Bentuk X_val = (198,)\n",
            "Bentuk Y_val = (198,)\n",
            "Bentuk X_test = (198,)\n",
            "Bentuk Y_test = (198,)\n"
          ]
        }
      ],
      "source": [
        "print(f'Bentuk X_train = {X_train.shape}',\n",
        "      f'Bentuk Y_train = {y_train.shape}',\n",
        "      f'Bentuk X_val = {X_val.shape}',\n",
        "      f'Bentuk Y_val = {y_val.shape}',\n",
        "      f'Bentuk X_test = {X_test.shape}',\n",
        "      f'Bentuk Y_test = {y_test.shape}', sep=\"\\n\")"
      ]
    },
    {
      "cell_type": "markdown",
      "metadata": {
        "id": "1LKaJSjklkiE"
      },
      "source": [
        "# Tokenizer"
      ]
    },
    {
      "cell_type": "code",
      "execution_count": 176,
      "metadata": {
        "id": "mfqrT4eqzyhL"
      },
      "outputs": [],
      "source": [
        "NUM_WORDS = 15000\n",
        "\n",
        "tokenizer = Tokenizer(num_words=NUM_WORDS, split=' ')\n",
        "tokenizer.fit_on_texts(X_train)\n",
        "word_index = tokenizer.fit_on_texts(X_train)"
      ]
    },
    {
      "cell_type": "markdown",
      "metadata": {
        "id": "5p3Ml5jOloRx"
      },
      "source": [
        "# Sequence"
      ]
    },
    {
      "cell_type": "code",
      "execution_count": 178,
      "metadata": {
        "id": "1tXpjl-1z4id"
      },
      "outputs": [],
      "source": [
        "x_train_token = tokenizer.texts_to_sequences(X_train)\n",
        "x_test_token = tokenizer.texts_to_sequences(X_test)\n",
        "x_val_token =tokenizer.texts_to_sequences(X_val)"
      ]
    },
    {
      "cell_type": "markdown",
      "metadata": {
        "id": "DUHApODylqsE"
      },
      "source": [
        "# Padding"
      ]
    },
    {
      "cell_type": "code",
      "execution_count": 179,
      "metadata": {
        "id": "iXihzDbwz8mX"
      },
      "outputs": [],
      "source": [
        "MAXLEN = 250\n",
        "\n",
        "x_train_padding = pad_sequences(x_train_token, maxlen=MAXLEN, padding='post', truncating='post')\n",
        "x_test_padding = pad_sequences(x_test_token, maxlen=MAXLEN, padding='post', truncating='post')\n",
        "x_valdding_padding = pad_sequences(x_val_token, maxlen=MAXLEN, padding='post', truncating='post')\n",
        "embeding_dim = 16"
      ]
    },
    {
      "cell_type": "markdown",
      "metadata": {
        "id": "fpjYDM-alvCh"
      },
      "source": [
        "# Modeling"
      ]
    },
    {
      "cell_type": "code",
      "execution_count": 180,
      "metadata": {
        "colab": {
          "base_uri": "https://localhost:8080/"
        },
        "id": "eji5ile20D1j",
        "outputId": "ed2d4a4c-ff30-4c78-db0f-0ee82aa8ffd6"
      },
      "outputs": [
        {
          "name": "stdout",
          "output_type": "stream",
          "text": [
            "Model: \"sequential_5\"\n",
            "_________________________________________________________________\n",
            " Layer (type)                Output Shape              Param #   \n",
            "=================================================================\n",
            " embedding_5 (Embedding)     (None, 250, 20)           300000    \n",
            "                                                                 \n",
            " global_max_pooling1d_5 (Glo  (None, 20)               0         \n",
            " balMaxPooling1D)                                                \n",
            "                                                                 \n",
            " dense_10 (Dense)            (None, 6)                 126       \n",
            "                                                                 \n",
            " dense_11 (Dense)            (None, 1)                 7         \n",
            "                                                                 \n",
            "=================================================================\n",
            "Total params: 300,133\n",
            "Trainable params: 300,133\n",
            "Non-trainable params: 0\n",
            "_________________________________________________________________\n"
          ]
        }
      ],
      "source": [
        "\n",
        "model = tf.keras.Sequential([\n",
        "    Embedding(input_dim=NUM_WORDS, input_length=MAXLEN, output_dim=20),\n",
        "    tf.keras.layers.GlobalMaxPooling1D(),\n",
        "    tf.keras.layers.Dense(6, activation='relu'),\n",
        "    tf.keras.layers.Dense(1, activation='sigmoid')\n",
        "])\n",
        "\n",
        "model.summary()"
      ]
    },
    {
      "cell_type": "markdown",
      "metadata": {
        "id": "ZByOsiGzl8Fd"
      },
      "source": [
        "## Early Stopping"
      ]
    },
    {
      "cell_type": "code",
      "execution_count": 181,
      "metadata": {
        "id": "zJL0hjF10EoH"
      },
      "outputs": [],
      "source": [
        "early_stopping = tf.keras.callbacks.EarlyStopping(\n",
        "    monitor='val_accuracy', \n",
        "    verbose=1,\n",
        "    patience=10,\n",
        "    mode='max',\n",
        "    restore_best_weights=True)"
      ]
    },
    {
      "cell_type": "markdown",
      "metadata": {
        "id": "bFR0YoIRmEVQ"
      },
      "source": [
        "## Callbacks"
      ]
    },
    {
      "cell_type": "code",
      "execution_count": 182,
      "metadata": {
        "id": "h2eaW9lz0IoY"
      },
      "outputs": [],
      "source": [
        "class MyCallback(tf.keras.callbacks.Callback):\n",
        "  def on_epoch_end(self, epoch, logs={}):\n",
        "    if(logs.get('accuracy')>= 0.96):\n",
        "      print(\"\\nAkurasi validasi telah mencapai >95%!\")\n",
        "      self.model.stop_training = True\n",
        "callbacks = MyCallback()"
      ]
    },
    {
      "cell_type": "markdown",
      "metadata": {
        "id": "MUt2Zb0TmGnf"
      },
      "source": [
        "## Model Compile"
      ]
    },
    {
      "cell_type": "code",
      "execution_count": 183,
      "metadata": {
        "id": "AHXVs5VM4RHK"
      },
      "outputs": [],
      "source": [
        "model.compile(optimizer=tf.keras.optimizers.Adam(learning_rate=0.001),\n",
        "              loss='binary_crossentropy',\n",
        "              metrics=['accuracy'])"
      ]
    },
    {
      "cell_type": "markdown",
      "metadata": {
        "id": "Dy2sFpYXmJGG"
      },
      "source": [
        "## Model Fitting\n"
      ]
    },
    {
      "cell_type": "code",
      "execution_count": 184,
      "metadata": {
        "colab": {
          "base_uri": "https://localhost:8080/"
        },
        "id": "DAfpQQMM0U-Z",
        "outputId": "526a0249-44be-48df-a118-d934348e0a5f"
      },
      "outputs": [
        {
          "name": "stdout",
          "output_type": "stream",
          "text": [
            "Epoch 1/30\n",
            "20/20 [==============================] - 1s 12ms/step - loss: 0.6806 - accuracy: 0.6492 - val_loss: 0.6705 - val_accuracy: 0.6919\n",
            "Epoch 2/30\n",
            "20/20 [==============================] - 0s 5ms/step - loss: 0.6677 - accuracy: 0.6492 - val_loss: 0.6557 - val_accuracy: 0.6919\n",
            "Epoch 3/30\n",
            "20/20 [==============================] - 0s 6ms/step - loss: 0.6548 - accuracy: 0.6492 - val_loss: 0.6406 - val_accuracy: 0.6919\n",
            "Epoch 4/30\n",
            "20/20 [==============================] - 0s 6ms/step - loss: 0.6411 - accuracy: 0.6492 - val_loss: 0.6256 - val_accuracy: 0.6919\n",
            "Epoch 5/30\n",
            "20/20 [==============================] - 0s 6ms/step - loss: 0.6267 - accuracy: 0.6492 - val_loss: 0.6106 - val_accuracy: 0.6919\n",
            "Epoch 6/30\n",
            "20/20 [==============================] - 0s 5ms/step - loss: 0.6094 - accuracy: 0.6492 - val_loss: 0.5881 - val_accuracy: 0.6919\n",
            "Epoch 7/30\n",
            "20/20 [==============================] - 0s 5ms/step - loss: 0.5830 - accuracy: 0.6492 - val_loss: 0.5653 - val_accuracy: 0.6919\n",
            "Epoch 8/30\n",
            "20/20 [==============================] - 0s 6ms/step - loss: 0.5587 - accuracy: 0.6492 - val_loss: 0.5475 - val_accuracy: 0.6919\n",
            "Epoch 9/30\n",
            "20/20 [==============================] - 0s 5ms/step - loss: 0.5334 - accuracy: 0.6492 - val_loss: 0.5282 - val_accuracy: 0.6919\n",
            "Epoch 10/30\n",
            "20/20 [==============================] - 0s 6ms/step - loss: 0.5040 - accuracy: 0.6492 - val_loss: 0.5080 - val_accuracy: 0.6919\n",
            "Epoch 11/30\n",
            "20/20 [==============================] - 0s 5ms/step - loss: 0.4729 - accuracy: 0.6543 - val_loss: 0.4888 - val_accuracy: 0.6970\n",
            "Epoch 12/30\n",
            "20/20 [==============================] - 0s 6ms/step - loss: 0.4402 - accuracy: 0.7032 - val_loss: 0.4672 - val_accuracy: 0.7172\n",
            "Epoch 13/30\n",
            "20/20 [==============================] - 0s 5ms/step - loss: 0.4032 - accuracy: 0.8027 - val_loss: 0.4432 - val_accuracy: 0.7879\n",
            "Epoch 14/30\n",
            "20/20 [==============================] - 0s 6ms/step - loss: 0.3620 - accuracy: 0.8735 - val_loss: 0.4181 - val_accuracy: 0.8081\n",
            "Epoch 15/30\n",
            "20/20 [==============================] - 0s 6ms/step - loss: 0.3215 - accuracy: 0.9157 - val_loss: 0.3954 - val_accuracy: 0.8283\n",
            "Epoch 16/30\n",
            "20/20 [==============================] - 0s 6ms/step - loss: 0.2849 - accuracy: 0.9376 - val_loss: 0.3771 - val_accuracy: 0.8384\n",
            "Epoch 17/30\n",
            "20/20 [==============================] - 0s 5ms/step - loss: 0.2533 - accuracy: 0.9528 - val_loss: 0.3618 - val_accuracy: 0.8485\n",
            "Epoch 18/30\n",
            "20/20 [==============================] - 0s 6ms/step - loss: 0.2244 - accuracy: 0.9663 - val_loss: 0.3497 - val_accuracy: 0.8535\n",
            "Epoch 19/30\n",
            "20/20 [==============================] - 0s 6ms/step - loss: 0.1994 - accuracy: 0.9747 - val_loss: 0.3377 - val_accuracy: 0.8586\n",
            "Epoch 20/30\n",
            "20/20 [==============================] - 0s 5ms/step - loss: 0.1773 - accuracy: 0.9831 - val_loss: 0.3278 - val_accuracy: 0.8535\n",
            "Epoch 21/30\n",
            "20/20 [==============================] - 0s 6ms/step - loss: 0.1579 - accuracy: 0.9882 - val_loss: 0.3188 - val_accuracy: 0.8636\n",
            "Epoch 22/30\n",
            "20/20 [==============================] - 0s 6ms/step - loss: 0.1413 - accuracy: 0.9933 - val_loss: 0.3155 - val_accuracy: 0.8586\n",
            "Epoch 23/30\n",
            "20/20 [==============================] - 0s 6ms/step - loss: 0.1256 - accuracy: 0.9933 - val_loss: 0.3056 - val_accuracy: 0.8737\n",
            "Epoch 24/30\n",
            "20/20 [==============================] - 0s 6ms/step - loss: 0.1119 - accuracy: 0.9933 - val_loss: 0.3022 - val_accuracy: 0.8687\n",
            "Epoch 25/30\n",
            "20/20 [==============================] - 0s 6ms/step - loss: 0.0996 - accuracy: 0.9949 - val_loss: 0.2989 - val_accuracy: 0.8737\n",
            "Epoch 26/30\n",
            "20/20 [==============================] - 0s 6ms/step - loss: 0.0890 - accuracy: 0.9966 - val_loss: 0.2950 - val_accuracy: 0.8838\n",
            "Epoch 27/30\n",
            "20/20 [==============================] - 0s 5ms/step - loss: 0.0799 - accuracy: 0.9966 - val_loss: 0.2921 - val_accuracy: 0.8838\n",
            "Epoch 28/30\n",
            "20/20 [==============================] - 0s 6ms/step - loss: 0.0716 - accuracy: 0.9966 - val_loss: 0.2876 - val_accuracy: 0.8889\n",
            "Epoch 29/30\n",
            "20/20 [==============================] - 0s 6ms/step - loss: 0.0644 - accuracy: 0.9983 - val_loss: 0.2870 - val_accuracy: 0.8889\n",
            "Epoch 30/30\n",
            "20/20 [==============================] - 0s 6ms/step - loss: 0.0578 - accuracy: 0.9983 - val_loss: 0.2864 - val_accuracy: 0.8889\n"
          ]
        }
      ],
      "source": [
        "EPOCHS = 30\n",
        "BATCH_SIZE = 30\n",
        "history = model.fit(x_train_padding,\n",
        "                    y_train,\n",
        "                    epochs=EPOCHS,\n",
        "                    batch_size=BATCH_SIZE,\n",
        "                    validation_data=(x_valdding_padding, y_val),\n",
        "                    verbose=1,\n",
        "                    callbacks = early_stopping)"
      ]
    },
    {
      "cell_type": "markdown",
      "metadata": {
        "id": "kiayFl-1iuvE"
      },
      "source": [
        "## Evaluasi Model"
      ]
    },
    {
      "cell_type": "code",
      "execution_count": 185,
      "metadata": {
        "colab": {
          "base_uri": "https://localhost:8080/"
        },
        "id": "v3qg_VjR_MI4",
        "outputId": "b46f3f75-8697-4ab3-885f-5fd79ff39fab"
      },
      "outputs": [
        {
          "name": "stdout",
          "output_type": "stream",
          "text": [
            "ACCURACY: 0.8636363744735718\n",
            "LOSS: 0.34855446219444275\n"
          ]
        }
      ],
      "source": [
        "score = model.evaluate(x_test_padding,y_test, verbose = 0)\n",
        "print(\"ACCURACY:\",score[1])\n",
        "print(\"LOSS:\",score[0])"
      ]
    },
    {
      "cell_type": "markdown",
      "metadata": {
        "id": "eLkqy4EZnEAW"
      },
      "source": [
        "## Visualisasi hasil model\n"
      ]
    },
    {
      "cell_type": "code",
      "execution_count": 186,
      "metadata": {
        "colab": {
          "base_uri": "https://localhost:8080/",
          "height": 621
        },
        "id": "xJ_ysEvSwhtM",
        "outputId": "8efc2eca-6fc1-43fd-d651-6461d40df9fe"
      },
      "outputs": [
        {
          "data": {
            "image/png": "[encoded data removed]",
            "text/plain": [
              "<Figure size 720x720 with 1 Axes>"
            ]
          },
          "metadata": {
            "needs_background": "light"
          },
          "output_type": "display_data"
        }
      ],
      "source": [
        "plt.figure(1, figsize=(10,10))\n",
        "plt.plot(range(len(history.history['accuracy'])), \n",
        "         history.history['accuracy'],\n",
        "         'co-',\n",
        "         label='training')\n",
        "plt.plot(range(len(history.history['val_accuracy'])), \n",
        "         history.history['val_accuracy'],\n",
        "         'bD--',\n",
        "         label='validation')\n",
        "plt.title('Training & Validation Accuracy')\n",
        "plt.legend()\n",
        "plt.xlabel(\"Epochs\")\n",
        "plt.ylabel(\"Accuracy\")\n",
        "plt.show()\n"
      ]
    },
    {
      "cell_type": "code",
      "execution_count": 200,
      "metadata": {
        "colab": {
          "base_uri": "https://localhost:8080/",
          "height": 621
        },
        "id": "tvEtU8pgxTJ0",
        "outputId": "587a3dfe-1533-4552-e9a2-cad54b889589"
      },
      "outputs": [
        {
          "data": {
            "image/png": "[encoded data removed]",
            "text/plain": [
              "<Figure size 720x720 with 1 Axes>"
            ]
          },
          "metadata": {
            "needs_background": "light"
          },
          "output_type": "display_data"
        }
      ],
      "source": [
        "plt.figure(1, figsize=(10,10))\n",
        "plt.plot(range(len(history.history['loss'])), \n",
        "         history.history['loss'],\n",
        "          'co-',\n",
        "         label='training')\n",
        "plt.plot(range(len(history.history['val_loss'])), \n",
        "         history.history['val_loss'],\n",
        "         'bD--',\n",
        "         label='validation')\n",
        "plt.title('Training & Validation Loss')\n",
        "plt.legend()\n",
        "plt.xlabel(\"Epochs\")\n",
        "plt.ylabel(\"Loss\")\n",
        "plt.show()\n"
      ]
    },
    {
      "cell_type": "markdown",
      "metadata": {
        "id": "zI5haPnlmPV1"
      },
      "source": [
        "## Menyimpan Model"
      ]
    },
    {
      "cell_type": "code",
      "execution_count": 188,
      "metadata": {
        "id": "dUt0p0CBKmk2"
      },
      "outputs": [],
      "source": [
        "model.save('model1.h5')"
      ]
    },
    {
      "cell_type": "code",
      "execution_count": 189,
      "metadata": {
        "id": "haR6ZEALKwJq"
      },
      "outputs": [],
      "source": [
        "load = tf.keras.models.load_model('model1.h5')"
      ]
    },
    {
      "cell_type": "markdown",
      "metadata": {
        "id": "_Ge1Znkli8Qy"
      },
      "source": [
        "## Testing Model"
      ]
    },
    {
      "cell_type": "code",
      "execution_count": 190,
      "metadata": {
        "id": "0V1PLNfNKYpH"
      },
      "outputs": [],
      "source": [
        "POSITIVE = \"POSITIVE\"\n",
        "NEGATIVE = \"NEGATIVE\"\n",
        "SENTIMENT_THRESHOLDS = (0.4, 0.7)\n",
        "def decode_sentiment(score, include_neutral=True):\n",
        "    if include_neutral:        \n",
        "        label = NEGATIVE\n",
        "        if score <= SENTIMENT_THRESHOLDS[0]:\n",
        "            label = NEGATIVE\n",
        "        elif score >= SENTIMENT_THRESHOLDS[1]:\n",
        "            label = POSITIVE\n",
        "\n",
        "        return label\n",
        "    else:\n",
        "        return NEGATIVE if score < 0.5 else POSITIVE"
      ]
    },
    {
      "cell_type": "code",
      "execution_count": 191,
      "metadata": {
        "id": "fswbPqG0KZKt"
      },
      "outputs": [],
      "source": [
        "def Predict(text, include_neutral=True):\n",
        "    x_test = pad_sequences(tokenizer.texts_to_sequences([text]), maxlen=MAXLEN)\n",
        "    # Predict\n",
        "    score = load.predict([x_test])[0]\n",
        "    # Decode sentiment\n",
        "    label = decode_sentiment(score, include_neutral=False)\n",
        "\n",
        "    return {\"label\": label, \"score\": float(score)} "
      ]
    },
    {
      "cell_type": "code",
      "execution_count": 193,
      "metadata": {
        "colab": {
          "base_uri": "https://localhost:8080/"
        },
        "id": "Q-TsbMpDKdt7",
        "outputId": "d1cb0072-422e-4756-d076-8e42e8804af2"
      },
      "outputs": [
        {
          "name": "stdout",
          "output_type": "stream",
          "text": [
            "1/1 [==============================] - 0s 24ms/step\n"
          ]
        },
        {
          "data": {
            "text/plain": [
              "{'label': 'NEGATIVE', 'score': 0.049197059124708176}"
            ]
          },
          "execution_count": 193,
          "metadata": {},
          "output_type": "execute_result"
        }
      ],
      "source": [
        "Predict(\"aplikasi ini jelek, tolong diperbaiki lagi karna banyak error \")"
      ]
    },
    {
      "cell_type": "code",
      "execution_count": 197,
      "metadata": {
        "colab": {
          "base_uri": "https://localhost:8080/"
        },
        "id": "vLQExuv_pGi7",
        "outputId": "be560706-7fca-4323-b6fa-1a0635a77a63"
      },
      "outputs": [
        {
          "name": "stdout",
          "output_type": "stream",
          "text": [
            "1/1 [==============================] - 0s 24ms/step\n"
          ]
        },
        {
          "data": {
            "text/plain": [
              "{'label': 'POSITIVE', 'score': 0.8528755307197571}"
            ]
          },
          "execution_count": 197,
          "metadata": {},
          "output_type": "execute_result"
        }
      ],
      "source": [
        "Predict(\"aplikasinya sangat bagus, saya sangat tertolong karena bebas biaya admin\")"
      ]
    }
  ],
  "metadata": {
    "accelerator": "GPU",
    "colab": {
      "provenance": []
    },
    "gpuClass": "standard",
    "kernelspec": {
      "display_name": "Python 3.10.7 64-bit",
      "language": "python",
      "name": "python3"
    },
    "language_info": {
      "name": "python",
      "version": "3.10.7"
    },
    "vscode": {
      "interpreter": {
        "hash": "107d7b120a5b68773a87d4067e673630b35702e55ebab3138143d08b1c4d7cbc"
      }
    }
  },
  "nbformat": 4,
  "nbformat_minor": 0
}
