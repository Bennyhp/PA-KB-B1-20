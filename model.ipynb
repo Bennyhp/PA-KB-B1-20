{
  "nbformat": 4,
  "nbformat_minor": 0,
  "metadata": {
    "colab": {
      "provenance": []
    },
    "kernelspec": {
      "name": "python3",
      "display_name": "Python 3"
    },
    "language_info": {
      "name": "python"
    },
    "accelerator": "GPU",
    "gpuClass": "standard"
  },
  "cells": [
    {
      "cell_type": "code",
      "source": [
        "import pandas as pd\n",
        "# library for train test split\n",
        "from sklearn.model_selection import train_test_split\n",
        "\n",
        "# deep learning libraries for text pre-processing\n",
        "import tensorflow as tf\n",
        "from tensorflow.keras.preprocessing.text import Tokenizer\n",
        "from tensorflow.keras.preprocessing.sequence import pad_sequences\n",
        "\n",
        "# Modeling \n",
        "from tensorflow.keras.callbacks import EarlyStopping\n",
        "from tensorflow.keras import layers, models, regularizers,initializers\n",
        "from sklearn.model_selection import StratifiedKFold \n",
        "# from keras.preprocessing.text import Tokenizer\n",
        "# from keras.preprocessing.sequence import pad_sequences\n",
        "from keras.models import Sequential\n",
        "from keras.layers import LSTM, Dense, Embedding"
      ],
      "metadata": {
        "id": "ma8UnxbkyMt2"
      },
      "execution_count": 1,
      "outputs": []
    },
    {
      "cell_type": "code",
      "source": [
        "df = pd.read_csv('df_final.csv')"
      ],
      "metadata": {
        "id": "GAvfaNijzVVu"
      },
      "execution_count": 2,
      "outputs": []
    },
    {
      "cell_type": "code",
      "source": [
        "df"
      ],
      "metadata": {
        "colab": {
          "base_uri": "https://localhost:8080/",
          "height": 424
        },
        "id": "7A3Eb68U8cyZ",
        "outputId": "11f95b71-9e10-4674-b18c-d8f9f9f2c396"
      },
      "execution_count": 3,
      "outputs": [
        {
          "output_type": "execute_result",
          "data": {
            "text/plain": [
              "     Unnamed: 0                              reviewId  \\\n",
              "0             0  fd212db8-ac94-4b33-9321-5e123f8686cd   \n",
              "1             1  b8cc5911-6498-4448-8a12-184b444162fc   \n",
              "2             2  5132d329-c7ca-44a0-9975-750c161558e3   \n",
              "3             3  1d926f7b-902d-4f21-9858-554947e5ab3a   \n",
              "4             4  578e21b8-85f6-43b7-9ee7-b98096581a8f   \n",
              "..          ...                                   ...   \n",
              "984         984  a75b9302-989c-476b-9a99-00d8da418dd1   \n",
              "985         985  44674d32-5b6e-4af9-8bc9-934a8307ea42   \n",
              "986         986  130aec02-cd80-4659-b428-20dcc421c82a   \n",
              "987         987  cfae2f94-38bf-4e6e-ba8e-18395f433024   \n",
              "988         988  8097807b-7a4e-4de0-a303-55922b2c3ea1   \n",
              "\n",
              "                                               content    label  Target_type  \n",
              "0    saya suka dengan aplikasi ini benar benar memu...  negatif            0  \n",
              "1    halo saya pengguna lama dari tahun awalnya say...  positif            1  \n",
              "2    sejak tanggal juni saya transaksi flip ke btn ...  negatif            0  \n",
              "3    sekarang lebih ribet kalau mau validasi status...  negatif            0  \n",
              "4    aplikasi nya bagus sih hanya sayang fitur prin...  positif            1  \n",
              "..                                                 ...      ...          ...  \n",
              "984                       tranfer biaya admin termurah  positif            1  \n",
              "985  bagus semua transaksi untuk beli pulsa listrik...  positif            1  \n",
              "986  aplikasi terbaik sangat fungsional bikin kanto...  positif            1  \n",
              "987                      selalu lancar dan terbaik lah  positif            1  \n",
              "988  luar biasa pakai flip kirim uang ataupun penar...  positif            1  \n",
              "\n",
              "[989 rows x 5 columns]"
            ],
            "text/html": [
              "\n",
              "  <div id=\"df-87c7f802-20cc-4512-be41-125ecf349128\">\n",
              "    <div class=\"colab-df-container\">\n",
              "      <div>\n",
              "<style scoped>\n",
              "    .dataframe tbody tr th:only-of-type {\n",
              "        vertical-align: middle;\n",
              "    }\n",
              "\n",
              "    .dataframe tbody tr th {\n",
              "        vertical-align: top;\n",
              "    }\n",
              "\n",
              "    .dataframe thead th {\n",
              "        text-align: right;\n",
              "    }\n",
              "</style>\n",
              "<table border=\"1\" class=\"dataframe\">\n",
              "  <thead>\n",
              "    <tr style=\"text-align: right;\">\n",
              "      <th></th>\n",
              "      <th>Unnamed: 0</th>\n",
              "      <th>reviewId</th>\n",
              "      <th>content</th>\n",
              "      <th>label</th>\n",
              "      <th>Target_type</th>\n",
              "    </tr>\n",
              "  </thead>\n",
              "  <tbody>\n",
              "    <tr>\n",
              "      <th>0</th>\n",
              "      <td>0</td>\n",
              "      <td>fd212db8-ac94-4b33-9321-5e123f8686cd</td>\n",
              "      <td>saya suka dengan aplikasi ini benar benar memu...</td>\n",
              "      <td>negatif</td>\n",
              "      <td>0</td>\n",
              "    </tr>\n",
              "    <tr>\n",
              "      <th>1</th>\n",
              "      <td>1</td>\n",
              "      <td>b8cc5911-6498-4448-8a12-184b444162fc</td>\n",
              "      <td>halo saya pengguna lama dari tahun awalnya say...</td>\n",
              "      <td>positif</td>\n",
              "      <td>1</td>\n",
              "    </tr>\n",
              "    <tr>\n",
              "      <th>2</th>\n",
              "      <td>2</td>\n",
              "      <td>5132d329-c7ca-44a0-9975-750c161558e3</td>\n",
              "      <td>sejak tanggal juni saya transaksi flip ke btn ...</td>\n",
              "      <td>negatif</td>\n",
              "      <td>0</td>\n",
              "    </tr>\n",
              "    <tr>\n",
              "      <th>3</th>\n",
              "      <td>3</td>\n",
              "      <td>1d926f7b-902d-4f21-9858-554947e5ab3a</td>\n",
              "      <td>sekarang lebih ribet kalau mau validasi status...</td>\n",
              "      <td>negatif</td>\n",
              "      <td>0</td>\n",
              "    </tr>\n",
              "    <tr>\n",
              "      <th>4</th>\n",
              "      <td>4</td>\n",
              "      <td>578e21b8-85f6-43b7-9ee7-b98096581a8f</td>\n",
              "      <td>aplikasi nya bagus sih hanya sayang fitur prin...</td>\n",
              "      <td>positif</td>\n",
              "      <td>1</td>\n",
              "    </tr>\n",
              "    <tr>\n",
              "      <th>...</th>\n",
              "      <td>...</td>\n",
              "      <td>...</td>\n",
              "      <td>...</td>\n",
              "      <td>...</td>\n",
              "      <td>...</td>\n",
              "    </tr>\n",
              "    <tr>\n",
              "      <th>984</th>\n",
              "      <td>984</td>\n",
              "      <td>a75b9302-989c-476b-9a99-00d8da418dd1</td>\n",
              "      <td>tranfer biaya admin termurah</td>\n",
              "      <td>positif</td>\n",
              "      <td>1</td>\n",
              "    </tr>\n",
              "    <tr>\n",
              "      <th>985</th>\n",
              "      <td>985</td>\n",
              "      <td>44674d32-5b6e-4af9-8bc9-934a8307ea42</td>\n",
              "      <td>bagus semua transaksi untuk beli pulsa listrik...</td>\n",
              "      <td>positif</td>\n",
              "      <td>1</td>\n",
              "    </tr>\n",
              "    <tr>\n",
              "      <th>986</th>\n",
              "      <td>986</td>\n",
              "      <td>130aec02-cd80-4659-b428-20dcc421c82a</td>\n",
              "      <td>aplikasi terbaik sangat fungsional bikin kanto...</td>\n",
              "      <td>positif</td>\n",
              "      <td>1</td>\n",
              "    </tr>\n",
              "    <tr>\n",
              "      <th>987</th>\n",
              "      <td>987</td>\n",
              "      <td>cfae2f94-38bf-4e6e-ba8e-18395f433024</td>\n",
              "      <td>selalu lancar dan terbaik lah</td>\n",
              "      <td>positif</td>\n",
              "      <td>1</td>\n",
              "    </tr>\n",
              "    <tr>\n",
              "      <th>988</th>\n",
              "      <td>988</td>\n",
              "      <td>8097807b-7a4e-4de0-a303-55922b2c3ea1</td>\n",
              "      <td>luar biasa pakai flip kirim uang ataupun penar...</td>\n",
              "      <td>positif</td>\n",
              "      <td>1</td>\n",
              "    </tr>\n",
              "  </tbody>\n",
              "</table>\n",
              "<p>989 rows × 5 columns</p>\n",
              "</div>\n",
              "      <button class=\"colab-df-convert\" onclick=\"convertToInteractive('df-87c7f802-20cc-4512-be41-125ecf349128')\"\n",
              "              title=\"Convert this dataframe to an interactive table.\"\n",
              "              style=\"display:none;\">\n",
              "        \n",
              "  <svg xmlns=\"http://www.w3.org/2000/svg\" height=\"24px\"viewBox=\"0 0 24 24\"\n",
              "       width=\"24px\">\n",
              "    <path d=\"M0 0h24v24H0V0z\" fill=\"none\"/>\n",
              "    <path d=\"M18.56 5.44l.94 2.06.94-2.06 2.06-.94-2.06-.94-.94-2.06-.94 2.06-2.06.94zm-11 1L8.5 8.5l.94-2.06 2.06-.94-2.06-.94L8.5 2.5l-.94 2.06-2.06.94zm10 10l.94 2.06.94-2.06 2.06-.94-2.06-.94-.94-2.06-.94 2.06-2.06.94z\"/><path d=\"M17.41 7.96l-1.37-1.37c-.4-.4-.92-.59-1.43-.59-.52 0-1.04.2-1.43.59L10.3 9.45l-7.72 7.72c-.78.78-.78 2.05 0 2.83L4 21.41c.39.39.9.59 1.41.59.51 0 1.02-.2 1.41-.59l7.78-7.78 2.81-2.81c.8-.78.8-2.07 0-2.86zM5.41 20L4 18.59l7.72-7.72 1.47 1.35L5.41 20z\"/>\n",
              "  </svg>\n",
              "      </button>\n",
              "      \n",
              "  <style>\n",
              "    .colab-df-container {\n",
              "      display:flex;\n",
              "      flex-wrap:wrap;\n",
              "      gap: 12px;\n",
              "    }\n",
              "\n",
              "    .colab-df-convert {\n",
              "      background-color: #E8F0FE;\n",
              "      border: none;\n",
              "      border-radius: 50%;\n",
              "      cursor: pointer;\n",
              "      display: none;\n",
              "      fill: #1967D2;\n",
              "      height: 32px;\n",
              "      padding: 0 0 0 0;\n",
              "      width: 32px;\n",
              "    }\n",
              "\n",
              "    .colab-df-convert:hover {\n",
              "      background-color: #E2EBFA;\n",
              "      box-shadow: 0px 1px 2px rgba(60, 64, 67, 0.3), 0px 1px 3px 1px rgba(60, 64, 67, 0.15);\n",
              "      fill: #174EA6;\n",
              "    }\n",
              "\n",
              "    [theme=dark] .colab-df-convert {\n",
              "      background-color: #3B4455;\n",
              "      fill: #D2E3FC;\n",
              "    }\n",
              "\n",
              "    [theme=dark] .colab-df-convert:hover {\n",
              "      background-color: #434B5C;\n",
              "      box-shadow: 0px 1px 3px 1px rgba(0, 0, 0, 0.15);\n",
              "      filter: drop-shadow(0px 1px 2px rgba(0, 0, 0, 0.3));\n",
              "      fill: #FFFFFF;\n",
              "    }\n",
              "  </style>\n",
              "\n",
              "      <script>\n",
              "        const buttonEl =\n",
              "          document.querySelector('#df-87c7f802-20cc-4512-be41-125ecf349128 button.colab-df-convert');\n",
              "        buttonEl.style.display =\n",
              "          google.colab.kernel.accessAllowed ? 'block' : 'none';\n",
              "\n",
              "        async function convertToInteractive(key) {\n",
              "          const element = document.querySelector('#df-87c7f802-20cc-4512-be41-125ecf349128');\n",
              "          const dataTable =\n",
              "            await google.colab.kernel.invokeFunction('convertToInteractive',\n",
              "                                                     [key], {});\n",
              "          if (!dataTable) return;\n",
              "\n",
              "          const docLinkHtml = 'Like what you see? Visit the ' +\n",
              "            '<a target=\"_blank\" href=https://colab.research.google.com/notebooks/data_table.ipynb>data table notebook</a>'\n",
              "            + ' to learn more about interactive tables.';\n",
              "          element.innerHTML = '';\n",
              "          dataTable['output_type'] = 'display_data';\n",
              "          await google.colab.output.renderOutput(dataTable, element);\n",
              "          const docLink = document.createElement('div');\n",
              "          docLink.innerHTML = docLinkHtml;\n",
              "          element.appendChild(docLink);\n",
              "        }\n",
              "      </script>\n",
              "    </div>\n",
              "  </div>\n",
              "  "
            ]
          },
          "metadata": {},
          "execution_count": 3
        }
      ]
    },
    {
      "cell_type": "code",
      "source": [],
      "metadata": {
        "id": "caOA2kB-8cuV"
      },
      "execution_count": 3,
      "outputs": []
    },
    {
      "cell_type": "code",
      "execution_count": 4,
      "metadata": {
        "id": "zJ1V-s22u-5q"
      },
      "outputs": [],
      "source": [
        "X = df['content'].values\n",
        "y = df['Target_type'].values\n",
        "X_train, X_test, y_train, y_test = train_test_split(X, y, test_size=0.2, random_state=1)"
      ]
    },
    {
      "cell_type": "code",
      "source": [
        "NUM_WORDS = 15000\n",
        "\n",
        "tokenizer = Tokenizer(num_words=NUM_WORDS, split=' ')\n",
        "tokenizer.fit_on_texts(X_train)"
      ],
      "metadata": {
        "id": "mfqrT4eqzyhL"
      },
      "execution_count": 5,
      "outputs": []
    },
    {
      "cell_type": "code",
      "source": [
        "x_train_token = tokenizer.texts_to_sequences(X_train)\n",
        "x_test_token = tokenizer.texts_to_sequences(X_test)"
      ],
      "metadata": {
        "id": "1tXpjl-1z4id"
      },
      "execution_count": 6,
      "outputs": []
    },
    {
      "cell_type": "code",
      "source": [
        "MAXLEN = 250\n",
        "\n",
        "x_train_padding = pad_sequences(x_train_token, maxlen=MAXLEN, padding='pre', truncating='post')\n",
        "x_test_padding = pad_sequences(x_test_token, maxlen=MAXLEN, padding='pre', truncating='post')\n",
        "embeding_dim = 16"
      ],
      "metadata": {
        "id": "iXihzDbwz8mX"
      },
      "execution_count": 7,
      "outputs": []
    },
    {
      "cell_type": "code",
      "source": [
        "model = Sequential([\n",
        "     Embedding(input_dim=NUM_WORDS, input_length=MAXLEN, output_dim=16),\n",
        "    tf.keras.layers.Bidirectional(LSTM(100, return_sequences=True)),\n",
        "    tf.keras.layers.Bidirectional(LSTM(50)),\n",
        "    Dense(16, activation='relu'),\n",
        "    tf.keras.layers.Dropout(0.4),\n",
        "    Dense(1, activation='sigmoid')\n",
        "])\n",
        "\n",
        "model.summary()"
      ],
      "metadata": {
        "id": "eji5ile20D1j",
        "colab": {
          "base_uri": "https://localhost:8080/"
        },
        "outputId": "b59a1c62-b52f-4b92-af6d-941d4b6a93b8"
      },
      "execution_count": 81,
      "outputs": [
        {
          "output_type": "stream",
          "name": "stdout",
          "text": [
            "Model: \"sequential_8\"\n",
            "_________________________________________________________________\n",
            " Layer (type)                Output Shape              Param #   \n",
            "=================================================================\n",
            " embedding_9 (Embedding)     (None, 250, 16)           240000    \n",
            "                                                                 \n",
            " bidirectional_2 (Bidirectio  (None, 250, 200)         93600     \n",
            " nal)                                                            \n",
            "                                                                 \n",
            " bidirectional_3 (Bidirectio  (None, 100)              100400    \n",
            " nal)                                                            \n",
            "                                                                 \n",
            " dense_16 (Dense)            (None, 16)                1616      \n",
            "                                                                 \n",
            " dropout_8 (Dropout)         (None, 16)                0         \n",
            "                                                                 \n",
            " dense_17 (Dense)            (None, 1)                 17        \n",
            "                                                                 \n",
            "=================================================================\n",
            "Total params: 435,633\n",
            "Trainable params: 435,633\n",
            "Non-trainable params: 0\n",
            "_________________________________________________________________\n"
          ]
        }
      ]
    },
    {
      "cell_type": "code",
      "source": [
        "early_stopping = tf.keras.callbacks.EarlyStopping(\n",
        "    monitor='val_accuracy', \n",
        "    verbose=1,\n",
        "    patience=10,\n",
        "    mode='max',\n",
        "    restore_best_weights=True)"
      ],
      "metadata": {
        "id": "zJL0hjF10EoH"
      },
      "execution_count": 82,
      "outputs": []
    },
    {
      "cell_type": "code",
      "source": [
        "class MyCallback(tf.keras.callbacks.Callback):\n",
        "  def on_epoch_end(self, epoch, logs={}):\n",
        "    if(logs.get('accuracy')> 0.95):\n",
        "      print(\"\\nAkurasi validasi telah mencapai >95%!\")\n",
        "      self.model.stop_training = True\n",
        "callbacks = MyCallback()"
      ],
      "metadata": {
        "id": "h2eaW9lz0IoY"
      },
      "execution_count": 83,
      "outputs": []
    },
    {
      "cell_type": "code",
      "source": [
        "model.compile(optimizer=tf.keras.optimizers.Adam(learning_rate=0.001),\n",
        "              loss='binary_crossentropy',\n",
        "              metrics=['accuracy'])"
      ],
      "metadata": {
        "id": "AHXVs5VM4RHK"
      },
      "execution_count": 84,
      "outputs": []
    },
    {
      "cell_type": "code",
      "source": [
        "EPOCHS = 20\n",
        "BATCH_SIZE = 30\n",
        "history = model.fit(x_train_padding,\n",
        "                    y_train,\n",
        "                    epochs=EPOCHS,\n",
        "                    batch_size=BATCH_SIZE,\n",
        "                    validation_data=(x_test_padding, y_test),\n",
        "                    verbose=1,\n",
        "                    callbacks = [early_stopping,callbacks])"
      ],
      "metadata": {
        "id": "DAfpQQMM0U-Z",
        "colab": {
          "base_uri": "https://localhost:8080/"
        },
        "outputId": "144bfdb2-5792-4b4d-b9a3-2b916f7d6bea"
      },
      "execution_count": 85,
      "outputs": [
        {
          "output_type": "stream",
          "name": "stdout",
          "text": [
            "Epoch 1/20\n",
            "27/27 [==============================] - 9s 107ms/step - loss: 0.6585 - accuracy: 0.6599 - val_loss: 0.6346 - val_accuracy: 0.7172\n",
            "Epoch 2/20\n",
            "27/27 [==============================] - 1s 44ms/step - loss: 0.6118 - accuracy: 0.6726 - val_loss: 0.5088 - val_accuracy: 0.7778\n",
            "Epoch 3/20\n",
            "27/27 [==============================] - 1s 45ms/step - loss: 0.4749 - accuracy: 0.8066 - val_loss: 0.3681 - val_accuracy: 0.8384\n",
            "Epoch 4/20\n",
            "27/27 [==============================] - 1s 43ms/step - loss: 0.3201 - accuracy: 0.9001 - val_loss: 0.3259 - val_accuracy: 0.8687\n",
            "Epoch 5/20\n",
            "27/27 [==============================] - 1s 44ms/step - loss: 0.2124 - accuracy: 0.9279 - val_loss: 0.3328 - val_accuracy: 0.8586\n",
            "Epoch 6/20\n",
            "27/27 [==============================] - ETA: 0s - loss: 0.1392 - accuracy: 0.9558\n",
            "Akurasi validasi telah mencapai >95%!\n",
            "27/27 [==============================] - 1s 45ms/step - loss: 0.1392 - accuracy: 0.9558 - val_loss: 0.3715 - val_accuracy: 0.8636\n"
          ]
        }
      ]
    }
  ]
}