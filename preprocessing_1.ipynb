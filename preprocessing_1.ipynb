{
  "cells": [
    {
      "cell_type": "code",
      "execution_count": 1,
      "metadata": {
        "id": "7Y7O0ZwMoj4x"
      },
      "outputs": [],
      "source": [
        "import pandas as pd\n",
        "import numpy as np\n",
        "import seaborn as sns\n",
        "import string\n",
        "import re\n",
        "import matplotlib.pyplot as plt\n",
        "# library for train test split"
      ]
    },
    {
      "cell_type": "code",
      "execution_count": 2,
      "metadata": {
        "id": "Bg67MSOWpF-k"
      },
      "outputs": [],
      "source": [
        "df = pd.read_csv(\"flip3.csv\")#read"
      ]
    },
    {
      "cell_type": "code",
      "execution_count": 3,
      "metadata": {
        "id": "Y70xS7B8pLHN"
      },
      "outputs": [
        {
          "data": {
            "text/html": [
              "<div>\n",
              "<style scoped>\n",
              "    .dataframe tbody tr th:only-of-type {\n",
              "        vertical-align: middle;\n",
              "    }\n",
              "\n",
              "    .dataframe tbody tr th {\n",
              "        vertical-align: top;\n",
              "    }\n",
              "\n",
              "    .dataframe thead th {\n",
              "        text-align: right;\n",
              "    }\n",
              "</style>\n",
              "<table border=\"1\" class=\"dataframe\">\n",
              "  <thead>\n",
              "    <tr style=\"text-align: right;\">\n",
              "      <th></th>\n",
              "      <th>reviewId</th>\n",
              "      <th>content</th>\n",
              "      <th>score</th>\n",
              "      <th>label</th>\n",
              "    </tr>\n",
              "  </thead>\n",
              "  <tbody>\n",
              "    <tr>\n",
              "      <th>0</th>\n",
              "      <td>fd212db8-ac94-4b33-9321-5e123f8686cd</td>\n",
              "      <td>Saya suka dengan aplikasi ini, benar- benar me...</td>\n",
              "      <td>3</td>\n",
              "      <td>negatif</td>\n",
              "    </tr>\n",
              "    <tr>\n",
              "      <th>1</th>\n",
              "      <td>b8cc5911-6498-4448-8a12-184b444162fc</td>\n",
              "      <td>Halo.. saya pengguna lama , dari tahun 2019. A...</td>\n",
              "      <td>3</td>\n",
              "      <td>positif</td>\n",
              "    </tr>\n",
              "    <tr>\n",
              "      <th>2</th>\n",
              "      <td>5132d329-c7ca-44a0-9975-750c161558e3</td>\n",
              "      <td>Sejak tgl 10 juni 2022 saya transaksi flip ke ...</td>\n",
              "      <td>3</td>\n",
              "      <td>negatif</td>\n",
              "    </tr>\n",
              "    <tr>\n",
              "      <th>3</th>\n",
              "      <td>1d926f7b-902d-4f21-9858-554947e5ab3a</td>\n",
              "      <td>Sekarang lbh ribet kl mau validasi status tran...</td>\n",
              "      <td>3</td>\n",
              "      <td>negatif</td>\n",
              "    </tr>\n",
              "    <tr>\n",
              "      <th>4</th>\n",
              "      <td>578e21b8-85f6-43b7-9ee7-b98096581a8f</td>\n",
              "      <td>Aplikasi nya bagus sih cuman sayang fitur prin...</td>\n",
              "      <td>3</td>\n",
              "      <td>positif</td>\n",
              "    </tr>\n",
              "  </tbody>\n",
              "</table>\n",
              "</div>"
            ],
            "text/plain": [
              "                               reviewId  \\\n",
              "0  fd212db8-ac94-4b33-9321-5e123f8686cd   \n",
              "1  b8cc5911-6498-4448-8a12-184b444162fc   \n",
              "2  5132d329-c7ca-44a0-9975-750c161558e3   \n",
              "3  1d926f7b-902d-4f21-9858-554947e5ab3a   \n",
              "4  578e21b8-85f6-43b7-9ee7-b98096581a8f   \n",
              "\n",
              "                                             content  score    label  \n",
              "0  Saya suka dengan aplikasi ini, benar- benar me...      3  negatif  \n",
              "1  Halo.. saya pengguna lama , dari tahun 2019. A...      3  positif  \n",
              "2  Sejak tgl 10 juni 2022 saya transaksi flip ke ...      3  negatif  \n",
              "3  Sekarang lbh ribet kl mau validasi status tran...      3  negatif  \n",
              "4  Aplikasi nya bagus sih cuman sayang fitur prin...      3  positif  "
            ]
          },
          "execution_count": 3,
          "metadata": {},
          "output_type": "execute_result"
        }
      ],
      "source": [
        "df.head()#eda"
      ]
    },
    {
      "cell_type": "code",
      "execution_count": 4,
      "metadata": {
        "id": "vMOF0yHfpQ8Z"
      },
      "outputs": [
        {
          "name": "stdout",
          "output_type": "stream",
          "text": [
            "<class 'pandas.core.frame.DataFrame'>\n",
            "RangeIndex: 1185 entries, 0 to 1184\n",
            "Data columns (total 4 columns):\n",
            " #   Column    Non-Null Count  Dtype \n",
            "---  ------    --------------  ----- \n",
            " 0   reviewId  1185 non-null   object\n",
            " 1   content   1185 non-null   object\n",
            " 2   score     1185 non-null   int64 \n",
            " 3   label     1185 non-null   object\n",
            "dtypes: int64(1), object(3)\n",
            "memory usage: 37.2+ KB\n"
          ]
        }
      ],
      "source": [
        "df.info()"
      ]
    },
    {
      "cell_type": "code",
      "execution_count": 5,
      "metadata": {
        "id": "lQGYQ1dmpUgx"
      },
      "outputs": [
        {
          "data": {
            "text/plain": [
              "(1185, 4)"
            ]
          },
          "execution_count": 5,
          "metadata": {},
          "output_type": "execute_result"
        }
      ],
      "source": [
        "df.shape"
      ]
    },
    {
      "cell_type": "code",
      "execution_count": 6,
      "metadata": {
        "id": "KHDizFJhpoQx"
      },
      "outputs": [
        {
          "data": {
            "text/plain": [
              "reviewId    0\n",
              "content     0\n",
              "score       0\n",
              "label       0\n",
              "dtype: int64"
            ]
          },
          "execution_count": 6,
          "metadata": {},
          "output_type": "execute_result"
        }
      ],
      "source": [
        "df.isna().sum()"
      ]
    },
    {
      "cell_type": "code",
      "execution_count": 7,
      "metadata": {
        "id": "INKp5rNtpsG1"
      },
      "outputs": [
        {
          "data": {
            "text/plain": [
              "158"
            ]
          },
          "execution_count": 7,
          "metadata": {},
          "output_type": "execute_result"
        }
      ],
      "source": [
        "df.duplicated().sum()"
      ]
    },
    {
      "cell_type": "markdown",
      "metadata": {
        "id": "j5sND1IGpwKv"
      },
      "source": [
        "clean"
      ]
    },
    {
      "cell_type": "code",
      "execution_count": 8,
      "metadata": {
        "id": "XxOHGPk1psyK"
      },
      "outputs": [],
      "source": [
        "# jadikan huruf kecil dan hilangkan mention\n",
        "X_clean = df['content'].apply(lambda x: re.sub(\"\\\\@.*? |\\\\@.*?[!'#S%&'()*+,-./:;<=>?@[/]^_{|}~]|\\\\@.*\", \" \", x.lower()))\n",
        "# hilangkan link url\n",
        "X_clean = X_clean.apply(lambda x: re.sub(\"http.*? |http.*?[!'#S%&'()*+,-./:;<=>?@[/]^_{|}~]|http.*\", \" \", x))\n",
        "# hilangkan hashtag\n",
        "X_clean = X_clean.apply(lambda x: re.sub(\"#.*? |#.*?[!'#S%&'()*+,-./:;<=>?@[/]^_{|}~]|#.*\", \" \", x))\n",
        "# hilangkan html tag\n",
        "X_clean = X_clean.apply(lambda x: re.sub(\"<.*?>\", \" \", x))\n",
        "# hilangkan angka\n",
        "X_clean = X_clean.apply(lambda x: re.sub(\"[0-9]\", \" \", x))\n",
        "# Ganti ? jadi \"questionmark\"\n",
        "X_clean = X_clean.apply(lambda x: re.sub(\"[?]\", \" questionmark\", x))\n",
        "# Ganti ! jadi \"exclamationmark\"\n",
        "X_clean = X_clean.apply(lambda x:  re.sub(\"[!]\", \" exclamationmark\", x))\n",
        "# Hilangkan semua kecuali kata dan spasi\n",
        "X_clean = X_clean.apply(lambda x: re.sub(\"'s\", \" \", x))\n",
        "X_clean = X_clean.apply(lambda x: re.sub(\"[^\\w\\s]\", \" \", x))\n",
        "# Hilangkan spasi berlebih\n",
        "X_clean = X_clean.apply(lambda x: re.sub(\" +\", \" \", x.strip()))"
      ]
    },
    {
      "cell_type": "code",
      "execution_count": 9,
      "metadata": {
        "id": "AC52Lf6Dp04j"
      },
      "outputs": [],
      "source": [
        "df['content']= X_clean # buat kembalikan hasil cleaning"
      ]
    },
    {
      "cell_type": "code",
      "execution_count": 10,
      "metadata": {
        "id": "ZE4xH7xBqDZo"
      },
      "outputs": [],
      "source": [
        "df = df.astype(str).apply(lambda x: x.str.encode('ascii', 'ignore').str.decode('ascii')) #hapus emoticon"
      ]
    },
    {
      "cell_type": "code",
      "execution_count": 11,
      "metadata": {
        "id": "__6V3HpyqEJv"
      },
      "outputs": [],
      "source": [
        "df = df.drop_duplicates(subset=[\"content\"]) ##hapus duplikasi\n",
        "df.reset_index(drop=True, inplace = True)"
      ]
    },
    {
      "cell_type": "code",
      "execution_count": 12,
      "metadata": {
        "id": "-SZ8ZymPqKh5"
      },
      "outputs": [],
      "source": [
        "df.drop('score',\n",
        "  axis='columns', inplace=True)"
      ]
    },
    {
      "cell_type": "code",
      "execution_count": 13,
      "metadata": {
        "id": "8NbVnyp7qLIr"
      },
      "outputs": [],
      "source": [
        "# label encoding, menjadikan nilai negatif = 0 & positif = 1\n",
        "df['Target_type']= df['label'].map({'negatif': 0, 'positif':1})"
      ]
    },
    {
      "cell_type": "markdown",
      "metadata": {
        "id": "JmuLjrz7qRtz"
      },
      "source": [
        "### Jadikan hasil cleannya jadi df\n"
      ]
    },
    {
      "cell_type": "code",
      "execution_count": 14,
      "metadata": {
        "id": "abULSwBUqcli"
      },
      "outputs": [],
      "source": [
        "df.to_csv('df_clean.csv')\n"
      ]
    }
  ],
  "metadata": {
    "colab": {
      "provenance": []
    },
    "kernelspec": {
      "display_name": "Python 3.10.7 64-bit",
      "language": "python",
      "name": "python3"
    },
    "language_info": {
      "codemirror_mode": {
        "name": "ipython",
        "version": 3
      },
      "file_extension": ".py",
      "mimetype": "text/x-python",
      "name": "python",
      "nbconvert_exporter": "python",
      "pygments_lexer": "ipython3",
      "version": "3.10.7"
    },
    "vscode": {
      "interpreter": {
        "hash": "9a7f8d2befd631b9a21173f36922036c5bd8d6faf9780db9aced7f982944f0b2"
      }
    }
  },
  "nbformat": 4,
  "nbformat_minor": 0
}
