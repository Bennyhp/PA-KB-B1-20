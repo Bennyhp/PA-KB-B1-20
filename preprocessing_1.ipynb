{
  "cells": [
    {
      "cell_type": "markdown",
      "metadata": {},
      "source": [
        "# Mengimport Library yang dibutuhkan"
      ]
    },
    {
      "cell_type": "code",
      "execution_count": 106,
      "metadata": {
        "id": "7Y7O0ZwMoj4x"
      },
      "outputs": [],
      "source": [
        "import pandas as pd # untuk membaca data\n",
        "import string\n",
        "import re #untuk cleaning tanda baca\n",
        "from sklearn.preprocessing import OrdinalEncoder"
      ]
    },
    {
      "cell_type": "markdown",
      "metadata": {},
      "source": [
        "# Membaca dataset"
      ]
    },
    {
      "cell_type": "code",
      "execution_count": 107,
      "metadata": {
        "id": "Bg67MSOWpF-k"
      },
      "outputs": [],
      "source": [
        "df = pd.read_csv(\"flip3.csv\") # read"
      ]
    },
    {
      "cell_type": "markdown",
      "metadata": {},
      "source": [
        "# EDA (Exploratory Data Analysis)\n",
        "## Before Cleaning"
      ]
    },
    {
      "cell_type": "code",
      "execution_count": 108,
      "metadata": {
        "id": "Y70xS7B8pLHN"
      },
      "outputs": [
        {
          "data": {
            "text/html": [
              "<div>\n",
              "<style scoped>\n",
              "    .dataframe tbody tr th:only-of-type {\n",
              "        vertical-align: middle;\n",
              "    }\n",
              "\n",
              "    .dataframe tbody tr th {\n",
              "        vertical-align: top;\n",
              "    }\n",
              "\n",
              "    .dataframe thead th {\n",
              "        text-align: right;\n",
              "    }\n",
              "</style>\n",
              "<table border=\"1\" class=\"dataframe\">\n",
              "  <thead>\n",
              "    <tr style=\"text-align: right;\">\n",
              "      <th></th>\n",
              "      <th>reviewId</th>\n",
              "      <th>content</th>\n",
              "      <th>score</th>\n",
              "      <th>label</th>\n",
              "    </tr>\n",
              "  </thead>\n",
              "  <tbody>\n",
              "    <tr>\n",
              "      <th>0</th>\n",
              "      <td>fd212db8-ac94-4b33-9321-5e123f8686cd</td>\n",
              "      <td>Saya suka dengan aplikasi ini, benar- benar me...</td>\n",
              "      <td>3</td>\n",
              "      <td>negatif</td>\n",
              "    </tr>\n",
              "    <tr>\n",
              "      <th>1</th>\n",
              "      <td>b8cc5911-6498-4448-8a12-184b444162fc</td>\n",
              "      <td>Halo.. saya pengguna lama , dari tahun 2019. A...</td>\n",
              "      <td>3</td>\n",
              "      <td>positif</td>\n",
              "    </tr>\n",
              "    <tr>\n",
              "      <th>2</th>\n",
              "      <td>5132d329-c7ca-44a0-9975-750c161558e3</td>\n",
              "      <td>Sejak tgl 10 juni 2022 saya transaksi flip ke ...</td>\n",
              "      <td>3</td>\n",
              "      <td>negatif</td>\n",
              "    </tr>\n",
              "    <tr>\n",
              "      <th>3</th>\n",
              "      <td>1d926f7b-902d-4f21-9858-554947e5ab3a</td>\n",
              "      <td>Sekarang lbh ribet kl mau validasi status tran...</td>\n",
              "      <td>3</td>\n",
              "      <td>negatif</td>\n",
              "    </tr>\n",
              "    <tr>\n",
              "      <th>4</th>\n",
              "      <td>578e21b8-85f6-43b7-9ee7-b98096581a8f</td>\n",
              "      <td>Aplikasi nya bagus sih cuman sayang fitur prin...</td>\n",
              "      <td>3</td>\n",
              "      <td>positif</td>\n",
              "    </tr>\n",
              "  </tbody>\n",
              "</table>\n",
              "</div>"
            ],
            "text/plain": [
              "                               reviewId  \\\n",
              "0  fd212db8-ac94-4b33-9321-5e123f8686cd   \n",
              "1  b8cc5911-6498-4448-8a12-184b444162fc   \n",
              "2  5132d329-c7ca-44a0-9975-750c161558e3   \n",
              "3  1d926f7b-902d-4f21-9858-554947e5ab3a   \n",
              "4  578e21b8-85f6-43b7-9ee7-b98096581a8f   \n",
              "\n",
              "                                             content  score    label  \n",
              "0  Saya suka dengan aplikasi ini, benar- benar me...      3  negatif  \n",
              "1  Halo.. saya pengguna lama , dari tahun 2019. A...      3  positif  \n",
              "2  Sejak tgl 10 juni 2022 saya transaksi flip ke ...      3  negatif  \n",
              "3  Sekarang lbh ribet kl mau validasi status tran...      3  negatif  \n",
              "4  Aplikasi nya bagus sih cuman sayang fitur prin...      3  positif  "
            ]
          },
          "execution_count": 108,
          "metadata": {},
          "output_type": "execute_result"
        }
      ],
      "source": [
        "df.head() # Melihat 5 data teratas"
      ]
    },
    {
      "cell_type": "code",
      "execution_count": 109,
      "metadata": {
        "id": "vMOF0yHfpQ8Z"
      },
      "outputs": [
        {
          "name": "stdout",
          "output_type": "stream",
          "text": [
            "<class 'pandas.core.frame.DataFrame'>\n",
            "RangeIndex: 1185 entries, 0 to 1184\n",
            "Data columns (total 4 columns):\n",
            " #   Column    Non-Null Count  Dtype \n",
            "---  ------    --------------  ----- \n",
            " 0   reviewId  1185 non-null   object\n",
            " 1   content   1185 non-null   object\n",
            " 2   score     1185 non-null   int64 \n",
            " 3   label     1185 non-null   object\n",
            "dtypes: int64(1), object(3)\n",
            "memory usage: 37.2+ KB\n"
          ]
        }
      ],
      "source": [
        "df.info() # Melihat informasi dataframe"
      ]
    },
    {
      "cell_type": "code",
      "execution_count": 110,
      "metadata": {
        "id": "lQGYQ1dmpUgx"
      },
      "outputs": [
        {
          "data": {
            "text/plain": [
              "(1185, 4)"
            ]
          },
          "execution_count": 110,
          "metadata": {},
          "output_type": "execute_result"
        }
      ],
      "source": [
        "df.shape # Melihat jumlah data dan jumlah atribut"
      ]
    },
    {
      "cell_type": "code",
      "execution_count": 111,
      "metadata": {
        "id": "KHDizFJhpoQx"
      },
      "outputs": [
        {
          "data": {
            "text/plain": [
              "reviewId    0\n",
              "content     0\n",
              "score       0\n",
              "label       0\n",
              "dtype: int64"
            ]
          },
          "execution_count": 111,
          "metadata": {},
          "output_type": "execute_result"
        }
      ],
      "source": [
        "df.isna().sum() # Melihat data yang bernilai null"
      ]
    },
    {
      "cell_type": "code",
      "execution_count": 112,
      "metadata": {
        "id": "INKp5rNtpsG1"
      },
      "outputs": [
        {
          "data": {
            "text/plain": [
              "158"
            ]
          },
          "execution_count": 112,
          "metadata": {},
          "output_type": "execute_result"
        }
      ],
      "source": [
        "df.duplicated().sum() # Melihat nilai duplikat"
      ]
    },
    {
      "cell_type": "markdown",
      "metadata": {
        "id": "j5sND1IGpwKv"
      },
      "source": [
        "# Data cleaning"
      ]
    },
    {
      "cell_type": "markdown",
      "metadata": {},
      "source": [
        "## Membersihkan data"
      ]
    },
    {
      "cell_type": "code",
      "execution_count": 113,
      "metadata": {
        "id": "XxOHGPk1psyK"
      },
      "outputs": [],
      "source": [
        "# jadikan huruf kecil dan hilangkan mention\n",
        "X_clean = df['content'].apply(lambda x: re.sub(\"\\\\@.*? |\\\\@.*?[!'#S%&'()*+,-./:;<=>?@[/]^_{|}~]|\\\\@.*\", \" \", x.lower()))\n",
        "# hilangkan link url\n",
        "X_clean = X_clean.apply(lambda x: re.sub(\"http.*? |http.*?[!'#S%&'()*+,-./:;<=>?@[/]^_{|}~]|http.*\", \" \", x))\n",
        "# hilangkan hashtag\n",
        "X_clean = X_clean.apply(lambda x: re.sub(\"#.*? |#.*?[!'#S%&'()*+,-./:;<=>?@[/]^_{|}~]|#.*\", \" \", x))\n",
        "# hilangkan html tag\n",
        "X_clean = X_clean.apply(lambda x: re.sub(\"<.*?>\", \" \", x))\n",
        "# hilangkan angka\n",
        "X_clean = X_clean.apply(lambda x: re.sub(\"[0-9]\", \" \", x))\n",
        "# Ganti ? jadi \"questionmark\"\n",
        "X_clean = X_clean.apply(lambda x: re.sub(\"[?]\", \" questionmark\", x))\n",
        "# Ganti ! jadi \"exclamationmark\"\n",
        "X_clean = X_clean.apply(lambda x:  re.sub(\"[!]\", \" exclamationmark\", x))\n",
        "# Hilangkan semua kecuali kata dan spasi\n",
        "X_clean = X_clean.apply(lambda x: re.sub(\"'s\", \" \", x))\n",
        "X_clean = X_clean.apply(lambda x: re.sub(\"[^\\w\\s]\", \" \", x))\n",
        "# Hilangkan spasi berlebih\n",
        "X_clean = X_clean.apply(lambda x: re.sub(\" +\", \" \", x.strip()))"
      ]
    },
    {
      "cell_type": "markdown",
      "metadata": {},
      "source": [
        "## Mengembalikan hasil cleaning data ke dalam dataframe"
      ]
    },
    {
      "cell_type": "code",
      "execution_count": 114,
      "metadata": {
        "id": "AC52Lf6Dp04j"
      },
      "outputs": [],
      "source": [
        "df['content']= X_clean # Mengembalikan hasil cleaning"
      ]
    },
    {
      "cell_type": "markdown",
      "metadata": {},
      "source": [
        "## Menghapus emoticon"
      ]
    },
    {
      "cell_type": "code",
      "execution_count": 115,
      "metadata": {
        "id": "ZE4xH7xBqDZo"
      },
      "outputs": [],
      "source": [
        "df = df.astype(str).apply(lambda x: x.str.encode('ascii', 'ignore').str.decode('ascii')) # Hapus emoticon"
      ]
    },
    {
      "cell_type": "markdown",
      "metadata": {},
      "source": [
        "## Menghapus duplikasi"
      ]
    },
    {
      "cell_type": "code",
      "execution_count": 116,
      "metadata": {
        "id": "__6V3HpyqEJv"
      },
      "outputs": [],
      "source": [
        "df = df.drop_duplicates(subset=[\"content\"]) # Hapus duplikasi\n",
        "df.reset_index(drop=True, inplace = True)"
      ]
    },
    {
      "cell_type": "markdown",
      "metadata": {},
      "source": [
        "## Menghapus kolom score"
      ]
    },
    {
      "cell_type": "code",
      "execution_count": 117,
      "metadata": {
        "id": "-SZ8ZymPqKh5"
      },
      "outputs": [],
      "source": [
        "df.drop('score',\n",
        "  axis='columns', inplace=True)"
      ]
    },
    {
      "cell_type": "markdown",
      "metadata": {},
      "source": [
        "## Encoding label"
      ]
    },
    {
      "cell_type": "code",
      "execution_count": 118,
      "metadata": {
        "id": "8NbVnyp7qLIr"
      },
      "outputs": [],
      "source": [
        "encoder = OrdinalEncoder()\n",
        "# label encoding, menjadikan nilai negatif = 0 & positif = 1\n",
        "df['label'] = encoder.fit_transform(df[['label']])"
      ]
    },
    {
      "cell_type": "markdown",
      "metadata": {},
      "source": [
        "# EDA (Exploratory Data Analysis)\n",
        "## After Cleaning"
      ]
    },
    {
      "cell_type": "code",
      "execution_count": 119,
      "metadata": {},
      "outputs": [
        {
          "data": {
            "text/html": [
              "<div>\n",
              "<style scoped>\n",
              "    .dataframe tbody tr th:only-of-type {\n",
              "        vertical-align: middle;\n",
              "    }\n",
              "\n",
              "    .dataframe tbody tr th {\n",
              "        vertical-align: top;\n",
              "    }\n",
              "\n",
              "    .dataframe thead th {\n",
              "        text-align: right;\n",
              "    }\n",
              "</style>\n",
              "<table border=\"1\" class=\"dataframe\">\n",
              "  <thead>\n",
              "    <tr style=\"text-align: right;\">\n",
              "      <th></th>\n",
              "      <th>reviewId</th>\n",
              "      <th>content</th>\n",
              "      <th>label</th>\n",
              "    </tr>\n",
              "  </thead>\n",
              "  <tbody>\n",
              "    <tr>\n",
              "      <th>0</th>\n",
              "      <td>fd212db8-ac94-4b33-9321-5e123f8686cd</td>\n",
              "      <td>saya suka dengan aplikasi ini benar benar memu...</td>\n",
              "      <td>0.0</td>\n",
              "    </tr>\n",
              "    <tr>\n",
              "      <th>1</th>\n",
              "      <td>b8cc5911-6498-4448-8a12-184b444162fc</td>\n",
              "      <td>halo saya pengguna lama dari tahun awalnya say...</td>\n",
              "      <td>1.0</td>\n",
              "    </tr>\n",
              "    <tr>\n",
              "      <th>2</th>\n",
              "      <td>5132d329-c7ca-44a0-9975-750c161558e3</td>\n",
              "      <td>sejak tgl juni saya transaksi flip ke btn stat...</td>\n",
              "      <td>0.0</td>\n",
              "    </tr>\n",
              "    <tr>\n",
              "      <th>3</th>\n",
              "      <td>1d926f7b-902d-4f21-9858-554947e5ab3a</td>\n",
              "      <td>sekarang lbh ribet kl mau validasi status tran...</td>\n",
              "      <td>0.0</td>\n",
              "    </tr>\n",
              "    <tr>\n",
              "      <th>4</th>\n",
              "      <td>578e21b8-85f6-43b7-9ee7-b98096581a8f</td>\n",
              "      <td>aplikasi nya bagus sih cuman sayang fitur prin...</td>\n",
              "      <td>1.0</td>\n",
              "    </tr>\n",
              "  </tbody>\n",
              "</table>\n",
              "</div>"
            ],
            "text/plain": [
              "                               reviewId  \\\n",
              "0  fd212db8-ac94-4b33-9321-5e123f8686cd   \n",
              "1  b8cc5911-6498-4448-8a12-184b444162fc   \n",
              "2  5132d329-c7ca-44a0-9975-750c161558e3   \n",
              "3  1d926f7b-902d-4f21-9858-554947e5ab3a   \n",
              "4  578e21b8-85f6-43b7-9ee7-b98096581a8f   \n",
              "\n",
              "                                             content  label  \n",
              "0  saya suka dengan aplikasi ini benar benar memu...    0.0  \n",
              "1  halo saya pengguna lama dari tahun awalnya say...    1.0  \n",
              "2  sejak tgl juni saya transaksi flip ke btn stat...    0.0  \n",
              "3  sekarang lbh ribet kl mau validasi status tran...    0.0  \n",
              "4  aplikasi nya bagus sih cuman sayang fitur prin...    1.0  "
            ]
          },
          "execution_count": 119,
          "metadata": {},
          "output_type": "execute_result"
        }
      ],
      "source": [
        "df.head() # Melihat 5 data teratas"
      ]
    },
    {
      "cell_type": "code",
      "execution_count": 120,
      "metadata": {},
      "outputs": [
        {
          "name": "stdout",
          "output_type": "stream",
          "text": [
            "<class 'pandas.core.frame.DataFrame'>\n",
            "RangeIndex: 989 entries, 0 to 988\n",
            "Data columns (total 3 columns):\n",
            " #   Column    Non-Null Count  Dtype  \n",
            "---  ------    --------------  -----  \n",
            " 0   reviewId  989 non-null    object \n",
            " 1   content   989 non-null    object \n",
            " 2   label     989 non-null    float64\n",
            "dtypes: float64(1), object(2)\n",
            "memory usage: 23.3+ KB\n"
          ]
        }
      ],
      "source": [
        "df.info() # Melihat informasi dataframe"
      ]
    },
    {
      "cell_type": "code",
      "execution_count": 121,
      "metadata": {},
      "outputs": [
        {
          "data": {
            "text/plain": [
              "(989, 3)"
            ]
          },
          "execution_count": 121,
          "metadata": {},
          "output_type": "execute_result"
        }
      ],
      "source": [
        "df.shape # Melihat jumlah data dan jumlah atribut"
      ]
    },
    {
      "cell_type": "code",
      "execution_count": 122,
      "metadata": {},
      "outputs": [
        {
          "data": {
            "text/plain": [
              "reviewId    0\n",
              "content     0\n",
              "label       0\n",
              "dtype: int64"
            ]
          },
          "execution_count": 122,
          "metadata": {},
          "output_type": "execute_result"
        }
      ],
      "source": [
        "df.isna().sum() # Melihat data yang bernilai null"
      ]
    },
    {
      "cell_type": "code",
      "execution_count": 123,
      "metadata": {},
      "outputs": [
        {
          "data": {
            "text/plain": [
              "0"
            ]
          },
          "execution_count": 123,
          "metadata": {},
          "output_type": "execute_result"
        }
      ],
      "source": [
        "df.duplicated().sum() # Melihat nilai duplikat"
      ]
    },
    {
      "cell_type": "markdown",
      "metadata": {
        "id": "JmuLjrz7qRtz"
      },
      "source": [
        "# Simpan data clean ke dalam csv baru"
      ]
    },
    {
      "cell_type": "code",
      "execution_count": 124,
      "metadata": {
        "id": "abULSwBUqcli"
      },
      "outputs": [],
      "source": [
        "df.to_csv('df_clean.csv')\n"
      ]
    },
    {
      "cell_type": "markdown",
      "metadata": {},
      "source": [
        "# Load dataset"
      ]
    },
    {
      "cell_type": "code",
      "execution_count": 125,
      "metadata": {},
      "outputs": [],
      "source": [
        "dt = pd.read_csv('df_clean.csv')\n",
        "del dt['Unnamed: 0']## menghapus kolom unmaned 0"
      ]
    }
  ],
  "metadata": {
    "colab": {
      "provenance": []
    },
    "kernelspec": {
      "display_name": "Python 3.10.7 64-bit",
      "language": "python",
      "name": "python3"
    },
    "language_info": {
      "codemirror_mode": {
        "name": "ipython",
        "version": 3
      },
      "file_extension": ".py",
      "mimetype": "text/x-python",
      "name": "python",
      "nbconvert_exporter": "python",
      "pygments_lexer": "ipython3",
      "version": "3.10.7"
    },
    "vscode": {
      "interpreter": {
        "hash": "9a7f8d2befd631b9a21173f36922036c5bd8d6faf9780db9aced7f982944f0b2"
      }
    }
  },
  "nbformat": 4,
  "nbformat_minor": 0
}
