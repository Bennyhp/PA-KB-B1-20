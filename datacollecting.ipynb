{
  "nbformat": 4,
  "nbformat_minor": 0,
  "metadata": {
    "colab": {
      "provenance": []
    },
    "kernelspec": {
      "name": "python3",
      "display_name": "Python 3"
    },
    "language_info": {
      "name": "python"
    },
    "accelerator": "GPU",
    "gpuClass": "standard"
  },
  "cells": [
    {
      "cell_type": "markdown",
      "source": [
        "# Instal dan Import library"
      ],
      "metadata": {
        "id": "Y9nWEMOXu0cB"
      }
    },
    {
      "cell_type": "code",
      "execution_count": 1,
      "metadata": {
        "id": "D1iCmclTqte9"
      },
      "outputs": [],
      "source": [
        "!pip install -qq google-play-scraper\n",
        "import pandas as pd\n",
        "from google_play_scraper import Sort, reviews, app"
      ]
    },
    {
      "cell_type": "markdown",
      "source": [
        "# Mengambil data dari website"
      ],
      "metadata": {
        "id": "vVwaG5Qvu46_"
      }
    },
    {
      "cell_type": "code",
      "source": [
        "info = app('id.flip', lang='en', country='us')"
      ],
      "metadata": {
        "id": "UMbll2OAqxNb"
      },
      "execution_count": 2,
      "outputs": []
    },
    {
      "cell_type": "markdown",
      "source": [
        "# Menyimpan data\n"
      ],
      "metadata": {
        "id": "dpm0rt7rvCMM"
      }
    },
    {
      "cell_type": "code",
      "source": [
        "result, continuation_token = reviews(\n",
        "    'id.flip',\n",
        "    lang='id', \n",
        "    country='id',\n",
        "    sort=Sort.NEWEST, \n",
        "    count=1200, \n",
        ")\n",
        "\n",
        "app_reviews_df = pd.DataFrame(result, columns=[\"content\",\"score\"])\n",
        "app_reviews_df[[\"content\",\"score\"]].to_csv('flip3.csv', mode = 'w' ,index=None, header=True)\n",
        "app_reviews_df.to_csv('flip3.csv', index=None, header=True)"
      ],
      "metadata": {
        "id": "_zFEVcSBq9V8"
      },
      "execution_count": 3,
      "outputs": []
    }
  ]
}