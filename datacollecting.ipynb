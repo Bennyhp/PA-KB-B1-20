{
  "cells": [
    {
      "cell_type": "markdown",
      "metadata": {
        "id": "Y9nWEMOXu0cB"
      },
      "source": [
        "# Install dan Import library"
      ]
    },
    {
      "cell_type": "code",
      "execution_count": 1,
      "metadata": {
        "id": "D1iCmclTqte9"
      },
      "outputs": [],
      "source": [
        "!pip install -qq google-play-scraper\n",
        "import pandas as pd\n",
        "from google_play_scraper import Sort, reviews, app"
      ]
    },
    {
      "cell_type": "markdown",
      "metadata": {
        "id": "vVwaG5Qvu46_"
      },
      "source": [
        "# Mengambil data dari website"
      ]
    },
    {
      "cell_type": "markdown",
      "metadata": {
        "id": "jpZz5NFV6tdT"
      },
      "source": [
        "# Contoh yang harus diambil\n",
        "# https://play.google.com/store/apps/details?id=**(id.flip)**&hl=id&gl=US\n",
        "### yang diambil hanya bagian yang kurung  saja"
      ]
    },
    {
      "cell_type": "code",
      "execution_count": 2,
      "metadata": {
        "id": "UMbll2OAqxNb"
      },
      "outputs": [],
      "source": [
        "info = app('id.flip', lang='en', country='us')"
      ]
    },
    {
      "cell_type": "markdown",
      "metadata": {
        "id": "dpm0rt7rvCMM"
      },
      "source": [
        "# Menyimpan data\n"
      ]
    },
    {
      "cell_type": "code",
      "execution_count": 3,
      "metadata": {
        "id": "_zFEVcSBq9V8"
      },
      "outputs": [],
      "source": [
        "result, continuation_token = reviews(\n",
        "    'id.flip',\n",
        "    lang='id', \n",
        "    country='id',\n",
        "    sort=Sort.NEWEST, \n",
        "    count=1200, \n",
        ")\n",
        "\n",
        "app_reviews_df = pd.DataFrame(result, columns=[\"reviewId\",\"content\",\"score\"])\n",
        "app_reviews_df[[\"reviewId\",\"content\",\"score\"]].to_csv('flip3.csv', mode = 'w' ,index=None, header=True)\n",
        "app_reviews_df.to_csv('flip3.csv', index=None, header=True)"
      ]
    }
  ],
  "metadata": {
    "accelerator": "GPU",
    "colab": {
      "provenance": []
    },
    "gpuClass": "standard",
    "kernelspec": {
      "display_name": "Python 3.10.7 64-bit",
      "language": "python",
      "name": "python3"
    },
    "language_info": {
      "name": "python",
      "version": "3.10.7"
    },
    "vscode": {
      "interpreter": {
        "hash": "107d7b120a5b68773a87d4067e673630b35702e55ebab3138143d08b1c4d7cbc"
      }
    }
  },
  "nbformat": 4,
  "nbformat_minor": 0
}
